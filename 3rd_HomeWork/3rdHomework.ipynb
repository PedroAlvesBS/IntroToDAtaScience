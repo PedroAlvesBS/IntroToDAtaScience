{
 "cells": [
  {
   "cell_type": "markdown",
   "id": "c1c9ca5a",
   "metadata": {},
   "source": [
    "### Average car prices - Bazil\n",
    "\n",
    "The variables fuel, gear and engine_size were extracted from values of column model, as in original there is no column dedicated to those values. Since some values for model don't contain the information of engine size, this dataset doesn't contain the whole data from FIPE's original. Additionally, if 'Aut.' is not present in model, the car is assumed to be manual.\n",
    "\n",
    "The prices are calculated by FIPE and they're here as original (in BRL).\n",
    "\n",
    "FIPE updates the information on a monthly basis. Here, the referred month is given as mothofreference, as the corresponding year has variable named as yearofreference\n",
    "\n",
    "The FIPE codes (fipe_codes) are the model identifier used in FIPE webpage. It can be found at: __[dataset](https://www.kaggle.com/datasets/vagnerbessa/average-car-prices-bazil)__"
   ]
  },
  {
   "cell_type": "code",
   "execution_count": 48,
   "id": "2aa88dc9",
   "metadata": {},
   "outputs": [],
   "source": [
    "import pandas as pd\n",
    "import numpy as np\n",
    "import matplotlib.pyplot as plt"
   ]
  },
  {
   "cell_type": "code",
   "execution_count": 5,
   "id": "16c78abb",
   "metadata": {},
   "outputs": [],
   "source": [
    "dataset = pd.read_csv('fipe_2022.csv')"
   ]
  },
  {
   "cell_type": "code",
   "execution_count": 6,
   "id": "7aa43644",
   "metadata": {},
   "outputs": [
    {
     "data": {
      "text/html": [
       "<div>\n",
       "<style scoped>\n",
       "    .dataframe tbody tr th:only-of-type {\n",
       "        vertical-align: middle;\n",
       "    }\n",
       "\n",
       "    .dataframe tbody tr th {\n",
       "        vertical-align: top;\n",
       "    }\n",
       "\n",
       "    .dataframe thead th {\n",
       "        text-align: right;\n",
       "    }\n",
       "</style>\n",
       "<table border=\"1\" class=\"dataframe\">\n",
       "  <thead>\n",
       "    <tr style=\"text-align: right;\">\n",
       "      <th></th>\n",
       "      <th>year_of_reference</th>\n",
       "      <th>month_of_reference</th>\n",
       "      <th>fipe_code</th>\n",
       "      <th>authentication</th>\n",
       "      <th>brand</th>\n",
       "      <th>model</th>\n",
       "      <th>fuel</th>\n",
       "      <th>gear</th>\n",
       "      <th>engine_size</th>\n",
       "      <th>year_model</th>\n",
       "      <th>avg_price_brl</th>\n",
       "      <th>age_years</th>\n",
       "    </tr>\n",
       "  </thead>\n",
       "  <tbody>\n",
       "    <tr>\n",
       "      <th>0</th>\n",
       "      <td>2022</td>\n",
       "      <td>January</td>\n",
       "      <td>038001-6</td>\n",
       "      <td>vwmrywl5qs</td>\n",
       "      <td>Acura</td>\n",
       "      <td>NSX 3.0</td>\n",
       "      <td>Gasoline</td>\n",
       "      <td>manual</td>\n",
       "      <td>3.0</td>\n",
       "      <td>1995</td>\n",
       "      <td>43779.0</td>\n",
       "      <td>28</td>\n",
       "    </tr>\n",
       "    <tr>\n",
       "      <th>1</th>\n",
       "      <td>2022</td>\n",
       "      <td>January</td>\n",
       "      <td>038001-6</td>\n",
       "      <td>t9mt723qhz</td>\n",
       "      <td>Acura</td>\n",
       "      <td>NSX 3.0</td>\n",
       "      <td>Gasoline</td>\n",
       "      <td>manual</td>\n",
       "      <td>3.0</td>\n",
       "      <td>1994</td>\n",
       "      <td>42244.0</td>\n",
       "      <td>29</td>\n",
       "    </tr>\n",
       "    <tr>\n",
       "      <th>2</th>\n",
       "      <td>2022</td>\n",
       "      <td>January</td>\n",
       "      <td>038001-6</td>\n",
       "      <td>tr5wv4z21g</td>\n",
       "      <td>Acura</td>\n",
       "      <td>NSX 3.0</td>\n",
       "      <td>Gasoline</td>\n",
       "      <td>manual</td>\n",
       "      <td>3.0</td>\n",
       "      <td>1993</td>\n",
       "      <td>40841.0</td>\n",
       "      <td>30</td>\n",
       "    </tr>\n",
       "    <tr>\n",
       "      <th>3</th>\n",
       "      <td>2022</td>\n",
       "      <td>January</td>\n",
       "      <td>038001-6</td>\n",
       "      <td>s2xxsjz3mt</td>\n",
       "      <td>Acura</td>\n",
       "      <td>NSX 3.0</td>\n",
       "      <td>Gasoline</td>\n",
       "      <td>manual</td>\n",
       "      <td>3.0</td>\n",
       "      <td>1992</td>\n",
       "      <td>39028.0</td>\n",
       "      <td>31</td>\n",
       "    </tr>\n",
       "    <tr>\n",
       "      <th>4</th>\n",
       "      <td>2022</td>\n",
       "      <td>January</td>\n",
       "      <td>038001-6</td>\n",
       "      <td>rtm9gj7zk8</td>\n",
       "      <td>Acura</td>\n",
       "      <td>NSX 3.0</td>\n",
       "      <td>Gasoline</td>\n",
       "      <td>manual</td>\n",
       "      <td>3.0</td>\n",
       "      <td>1991</td>\n",
       "      <td>35678.0</td>\n",
       "      <td>32</td>\n",
       "    </tr>\n",
       "    <tr>\n",
       "      <th>...</th>\n",
       "      <td>...</td>\n",
       "      <td>...</td>\n",
       "      <td>...</td>\n",
       "      <td>...</td>\n",
       "      <td>...</td>\n",
       "      <td>...</td>\n",
       "      <td>...</td>\n",
       "      <td>...</td>\n",
       "      <td>...</td>\n",
       "      <td>...</td>\n",
       "      <td>...</td>\n",
       "      <td>...</td>\n",
       "    </tr>\n",
       "    <tr>\n",
       "      <th>290270</th>\n",
       "      <td>2022</td>\n",
       "      <td>December</td>\n",
       "      <td>061001-1</td>\n",
       "      <td>lzrp3rpklh8q</td>\n",
       "      <td>Walk</td>\n",
       "      <td>Buggy Walk Sport 1.6 8V 58cv</td>\n",
       "      <td>Gasoline</td>\n",
       "      <td>manual</td>\n",
       "      <td>1.6</td>\n",
       "      <td>2009</td>\n",
       "      <td>22894.0</td>\n",
       "      <td>14</td>\n",
       "    </tr>\n",
       "    <tr>\n",
       "      <th>290271</th>\n",
       "      <td>2022</td>\n",
       "      <td>December</td>\n",
       "      <td>061001-1</td>\n",
       "      <td>lrfw427w9v5h</td>\n",
       "      <td>Walk</td>\n",
       "      <td>Buggy Walk Sport 1.6 8V 58cv</td>\n",
       "      <td>Gasoline</td>\n",
       "      <td>manual</td>\n",
       "      <td>1.6</td>\n",
       "      <td>2008</td>\n",
       "      <td>22270.0</td>\n",
       "      <td>15</td>\n",
       "    </tr>\n",
       "    <tr>\n",
       "      <th>290272</th>\n",
       "      <td>2022</td>\n",
       "      <td>December</td>\n",
       "      <td>061001-1</td>\n",
       "      <td>lh98rfxnhy18</td>\n",
       "      <td>Walk</td>\n",
       "      <td>Buggy Walk Sport 1.6 8V 58cv</td>\n",
       "      <td>Gasoline</td>\n",
       "      <td>manual</td>\n",
       "      <td>1.6</td>\n",
       "      <td>2007</td>\n",
       "      <td>21663.0</td>\n",
       "      <td>16</td>\n",
       "    </tr>\n",
       "    <tr>\n",
       "      <th>290273</th>\n",
       "      <td>2022</td>\n",
       "      <td>December</td>\n",
       "      <td>061001-1</td>\n",
       "      <td>k9dtwsps5sy1</td>\n",
       "      <td>Walk</td>\n",
       "      <td>Buggy Walk Sport 1.6 8V 58cv</td>\n",
       "      <td>Gasoline</td>\n",
       "      <td>manual</td>\n",
       "      <td>1.6</td>\n",
       "      <td>2006</td>\n",
       "      <td>21073.0</td>\n",
       "      <td>17</td>\n",
       "    </tr>\n",
       "    <tr>\n",
       "      <th>290274</th>\n",
       "      <td>2022</td>\n",
       "      <td>December</td>\n",
       "      <td>061001-1</td>\n",
       "      <td>j7gt9020nqvt</td>\n",
       "      <td>Walk</td>\n",
       "      <td>Buggy Walk Sport 1.6 8V 58cv</td>\n",
       "      <td>Gasoline</td>\n",
       "      <td>manual</td>\n",
       "      <td>1.6</td>\n",
       "      <td>2005</td>\n",
       "      <td>18264.0</td>\n",
       "      <td>18</td>\n",
       "    </tr>\n",
       "  </tbody>\n",
       "</table>\n",
       "<p>290275 rows × 12 columns</p>\n",
       "</div>"
      ],
      "text/plain": [
       "        year_of_reference month_of_reference fipe_code authentication  brand  \\\n",
       "0                    2022            January  038001-6     vwmrywl5qs  Acura   \n",
       "1                    2022            January  038001-6     t9mt723qhz  Acura   \n",
       "2                    2022            January  038001-6     tr5wv4z21g  Acura   \n",
       "3                    2022            January  038001-6     s2xxsjz3mt  Acura   \n",
       "4                    2022            January  038001-6     rtm9gj7zk8  Acura   \n",
       "...                   ...                ...       ...            ...    ...   \n",
       "290270               2022           December  061001-1   lzrp3rpklh8q   Walk   \n",
       "290271               2022           December  061001-1   lrfw427w9v5h   Walk   \n",
       "290272               2022           December  061001-1   lh98rfxnhy18   Walk   \n",
       "290273               2022           December  061001-1   k9dtwsps5sy1   Walk   \n",
       "290274               2022           December  061001-1   j7gt9020nqvt   Walk   \n",
       "\n",
       "                               model      fuel    gear  engine_size  \\\n",
       "0                            NSX 3.0  Gasoline  manual          3.0   \n",
       "1                            NSX 3.0  Gasoline  manual          3.0   \n",
       "2                            NSX 3.0  Gasoline  manual          3.0   \n",
       "3                            NSX 3.0  Gasoline  manual          3.0   \n",
       "4                            NSX 3.0  Gasoline  manual          3.0   \n",
       "...                              ...       ...     ...          ...   \n",
       "290270  Buggy Walk Sport 1.6 8V 58cv  Gasoline  manual          1.6   \n",
       "290271  Buggy Walk Sport 1.6 8V 58cv  Gasoline  manual          1.6   \n",
       "290272  Buggy Walk Sport 1.6 8V 58cv  Gasoline  manual          1.6   \n",
       "290273  Buggy Walk Sport 1.6 8V 58cv  Gasoline  manual          1.6   \n",
       "290274  Buggy Walk Sport 1.6 8V 58cv  Gasoline  manual          1.6   \n",
       "\n",
       "        year_model  avg_price_brl  age_years  \n",
       "0             1995        43779.0         28  \n",
       "1             1994        42244.0         29  \n",
       "2             1993        40841.0         30  \n",
       "3             1992        39028.0         31  \n",
       "4             1991        35678.0         32  \n",
       "...            ...            ...        ...  \n",
       "290270        2009        22894.0         14  \n",
       "290271        2008        22270.0         15  \n",
       "290272        2007        21663.0         16  \n",
       "290273        2006        21073.0         17  \n",
       "290274        2005        18264.0         18  \n",
       "\n",
       "[290275 rows x 12 columns]"
      ]
     },
     "execution_count": 6,
     "metadata": {},
     "output_type": "execute_result"
    }
   ],
   "source": [
    "dataset"
   ]
  },
  {
   "cell_type": "code",
   "execution_count": 7,
   "id": "2c6ff6fe",
   "metadata": {},
   "outputs": [
    {
     "data": {
      "text/plain": [
       "290275"
      ]
     },
     "execution_count": 7,
     "metadata": {},
     "output_type": "execute_result"
    }
   ],
   "source": [
    "len(dataset)"
   ]
  },
  {
   "cell_type": "code",
   "execution_count": 9,
   "id": "69a9a100",
   "metadata": {},
   "outputs": [
    {
     "data": {
      "text/html": [
       "<div>\n",
       "<style scoped>\n",
       "    .dataframe tbody tr th:only-of-type {\n",
       "        vertical-align: middle;\n",
       "    }\n",
       "\n",
       "    .dataframe tbody tr th {\n",
       "        vertical-align: top;\n",
       "    }\n",
       "\n",
       "    .dataframe thead th {\n",
       "        text-align: right;\n",
       "    }\n",
       "</style>\n",
       "<table border=\"1\" class=\"dataframe\">\n",
       "  <thead>\n",
       "    <tr style=\"text-align: right;\">\n",
       "      <th></th>\n",
       "      <th>year_of_reference</th>\n",
       "      <th>engine_size</th>\n",
       "      <th>year_model</th>\n",
       "      <th>avg_price_brl</th>\n",
       "      <th>age_years</th>\n",
       "    </tr>\n",
       "  </thead>\n",
       "  <tbody>\n",
       "    <tr>\n",
       "      <th>count</th>\n",
       "      <td>290275.0</td>\n",
       "      <td>290275.000000</td>\n",
       "      <td>290275.000000</td>\n",
       "      <td>2.902750e+05</td>\n",
       "      <td>290275.000000</td>\n",
       "    </tr>\n",
       "    <tr>\n",
       "      <th>mean</th>\n",
       "      <td>2022.0</td>\n",
       "      <td>2.266047</td>\n",
       "      <td>2008.896633</td>\n",
       "      <td>1.220872e+05</td>\n",
       "      <td>14.103367</td>\n",
       "    </tr>\n",
       "    <tr>\n",
       "      <th>std</th>\n",
       "      <td>0.0</td>\n",
       "      <td>1.033109</td>\n",
       "      <td>9.263619</td>\n",
       "      <td>3.219139e+05</td>\n",
       "      <td>9.263619</td>\n",
       "    </tr>\n",
       "    <tr>\n",
       "      <th>min</th>\n",
       "      <td>2022.0</td>\n",
       "      <td>0.700000</td>\n",
       "      <td>1985.000000</td>\n",
       "      <td>1.831000e+03</td>\n",
       "      <td>0.000000</td>\n",
       "    </tr>\n",
       "    <tr>\n",
       "      <th>25%</th>\n",
       "      <td>2022.0</td>\n",
       "      <td>1.600000</td>\n",
       "      <td>2001.000000</td>\n",
       "      <td>2.187500e+04</td>\n",
       "      <td>7.000000</td>\n",
       "    </tr>\n",
       "    <tr>\n",
       "      <th>50%</th>\n",
       "      <td>2022.0</td>\n",
       "      <td>2.000000</td>\n",
       "      <td>2010.000000</td>\n",
       "      <td>4.683600e+04</td>\n",
       "      <td>13.000000</td>\n",
       "    </tr>\n",
       "    <tr>\n",
       "      <th>75%</th>\n",
       "      <td>2022.0</td>\n",
       "      <td>2.800000</td>\n",
       "      <td>2016.000000</td>\n",
       "      <td>1.061650e+05</td>\n",
       "      <td>22.000000</td>\n",
       "    </tr>\n",
       "    <tr>\n",
       "      <th>max</th>\n",
       "      <td>2022.0</td>\n",
       "      <td>6.700000</td>\n",
       "      <td>2023.000000</td>\n",
       "      <td>8.600000e+06</td>\n",
       "      <td>38.000000</td>\n",
       "    </tr>\n",
       "  </tbody>\n",
       "</table>\n",
       "</div>"
      ],
      "text/plain": [
       "       year_of_reference    engine_size     year_model  avg_price_brl  \\\n",
       "count           290275.0  290275.000000  290275.000000   2.902750e+05   \n",
       "mean              2022.0       2.266047    2008.896633   1.220872e+05   \n",
       "std                  0.0       1.033109       9.263619   3.219139e+05   \n",
       "min               2022.0       0.700000    1985.000000   1.831000e+03   \n",
       "25%               2022.0       1.600000    2001.000000   2.187500e+04   \n",
       "50%               2022.0       2.000000    2010.000000   4.683600e+04   \n",
       "75%               2022.0       2.800000    2016.000000   1.061650e+05   \n",
       "max               2022.0       6.700000    2023.000000   8.600000e+06   \n",
       "\n",
       "           age_years  \n",
       "count  290275.000000  \n",
       "mean       14.103367  \n",
       "std         9.263619  \n",
       "min         0.000000  \n",
       "25%         7.000000  \n",
       "50%        13.000000  \n",
       "75%        22.000000  \n",
       "max        38.000000  "
      ]
     },
     "execution_count": 9,
     "metadata": {},
     "output_type": "execute_result"
    }
   ],
   "source": [
    "dataset.describe()"
   ]
  },
  {
   "cell_type": "code",
   "execution_count": 15,
   "id": "1d59be9c",
   "metadata": {},
   "outputs": [],
   "source": [
    "datasetwna = dataset.dropna()"
   ]
  },
  {
   "cell_type": "code",
   "execution_count": 16,
   "id": "c0341144",
   "metadata": {},
   "outputs": [
    {
     "data": {
      "text/plain": [
       "290275"
      ]
     },
     "execution_count": 16,
     "metadata": {},
     "output_type": "execute_result"
    }
   ],
   "source": [
    "len(datasetwna)"
   ]
  },
  {
   "cell_type": "markdown",
   "id": "d5c8729f",
   "metadata": {},
   "source": [
    "### 1. What are the average prices per car year models?"
   ]
  },
  {
   "cell_type": "code",
   "execution_count": 45,
   "id": "a7435db6",
   "metadata": {},
   "outputs": [],
   "source": [
    "year_model_sorted = np.sort(datasetwna.year_model.unique())"
   ]
  },
  {
   "cell_type": "code",
   "execution_count": 46,
   "id": "efa0f904",
   "metadata": {},
   "outputs": [],
   "source": [
    "year_avg = []\n",
    "for year_model in year_model_sorted:\n",
    "    avg = datasetwna[datasetwna['year_model'] == year_model].avg_price_brl.mean()\n",
    "    year_avg.append([year_model, avg])\n",
    "year_avg = pd.DataFrame(year_avg, columns=['year_model', 'avg_price_brl'])"
   ]
  },
  {
   "cell_type": "code",
   "execution_count": 61,
   "id": "21397b89",
   "metadata": {},
   "outputs": [
    {
     "data": {
      "image/png": "[encoded data removed]",
      "text/plain": [
       "<Figure size 432x288 with 1 Axes>"
      ]
     },
     "metadata": {
      "needs_background": "light"
     },
     "output_type": "display_data"
    }
   ],
   "source": [
    "plt.plot(year_avg.year_model, year_avg.avg_price_brl)\n",
    "plt.title('Average car price per year model', fontsize=20)\n",
    "plt.xlabel('Year model', fontsize=14)\n",
    "plt.ylabel('Price in BRL', fontsize=14)\n",
    "plt.show()"
   ]
  },
  {
   "cell_type": "markdown",
   "id": "8e8b3284",
   "metadata": {},
   "source": [
    "R: As expected as the year passes by cars trend to depreciate. Even that we have some valuable old cars, in average the oldest the cheaper"
   ]
  },
  {
   "cell_type": "markdown",
   "id": "5f8450e5",
   "metadata": {},
   "source": [
    "### 2.There are difference in prices just looking to the fuel type?"
   ]
  },
  {
   "cell_type": "code",
   "execution_count": 62,
   "id": "1834f751",
   "metadata": {},
   "outputs": [],
   "source": [
    "fuel_sorted = np.sort(datasetwna.fuel.unique())"
   ]
  },
  {
   "cell_type": "code",
   "execution_count": 64,
   "id": "f00d3948",
   "metadata": {},
   "outputs": [],
   "source": [
    "fuel_avg = []\n",
    "for fuel in fuel_sorted:\n",
    "    avg = datasetwna[datasetwna['fuel'] == fuel].avg_price_brl.mean()\n",
    "    fuel_avg.append([fuel, avg])\n",
    "fuel_avg = pd.DataFrame(fuel_avg, columns=['fuel', 'avg_price_brl'])"
   ]
  },
  {
   "cell_type": "code",
   "execution_count": 66,
   "id": "0828c8d3",
   "metadata": {
    "scrolled": false
   },
   "outputs": [
    {
     "data": {
      "image/png": "[encoded data removed]",
      "text/plain": [
       "<Figure size 432x288 with 1 Axes>"
      ]
     },
     "metadata": {
      "needs_background": "light"
     },
     "output_type": "display_data"
    }
   ],
   "source": [
    "plt.plot(fuel_avg.fuel, fuel_avg.avg_price_brl)\n",
    "plt.title('Average car price per fuel', fontsize=20)\n",
    "plt.xlabel('Fuel type', fontsize=14)\n",
    "plt.ylabel('Price in BRL', fontsize=14)\n",
    "plt.show()"
   ]
  },
  {
   "cell_type": "markdown",
   "id": "129d9702",
   "metadata": {},
   "source": [
    "R: As we have only three possibilities, and there is no flex category, what is reasonable is that cars that only runs alcohol trend to be cheaper, because they need more fuel than those who runs gasoline in proportion. As the prices increases it the owner has to use more money to walk around. There is a simple rule that people who owns flex cars generally uses proportion = Alcohol price per liter/Gasoline price per liter; if it gets a proportion less than 0.7 it pays to use alcohol, otherwise gasoline is better."
   ]
  },
  {
   "cell_type": "markdown",
   "id": "50c305e6",
   "metadata": {},
   "source": [
    "### 3.There are difference in prices just looking to the gear type?"
   ]
  },
  {
   "cell_type": "code",
   "execution_count": 71,
   "id": "42418c4a",
   "metadata": {},
   "outputs": [],
   "source": [
    "gear_sorted = np.sort(datasetwna.gear.unique())"
   ]
  },
  {
   "cell_type": "code",
   "execution_count": 72,
   "id": "f7442380",
   "metadata": {},
   "outputs": [],
   "source": [
    "gear_type_avg = []\n",
    "for gear_type in gear_sorted:\n",
    "    avg = datasetwna[datasetwna['gear'] == gear_type].avg_price_brl.mean()\n",
    "    gear_type_avg.append([gear_type, avg])\n",
    "gear_type_avg = pd.DataFrame(gear_type_avg, columns=['gear_type', 'avg_price_brl'])"
   ]
  },
  {
   "cell_type": "code",
   "execution_count": 130,
   "id": "d6fdd6b7",
   "metadata": {
    "scrolled": true
   },
   "outputs": [
    {
     "data": {
      "image/png": "[encoded data removed]",
      "text/plain": [
       "<Figure size 432x288 with 1 Axes>"
      ]
     },
     "metadata": {
      "needs_background": "light"
     },
     "output_type": "display_data"
    }
   ],
   "source": [
    "plt.bar(gear_type_avg.gear_type, gear_type_avg.avg_price_brl)\n",
    "plt.title('Average car price per gear_type', fontsize=20)\n",
    "plt.xlabel('Gear type', fontsize=14)\n",
    "plt.ylabel('Price in BRL', fontsize=14)\n",
    "plt.show()"
   ]
  },
  {
   "cell_type": "markdown",
   "id": "9d77bcd3",
   "metadata": {},
   "source": [
    "R: As expected the cars with automatic geat trend to have higher prices comparing with manual ones. This is an ease provided by capitalism haha :)"
   ]
  },
  {
   "cell_type": "markdown",
   "id": "0a4f9b3b",
   "metadata": {},
   "source": [
    "### 4.There are difference in prices just looking to the engine size?"
   ]
  },
  {
   "cell_type": "code",
   "execution_count": 81,
   "id": "88621198",
   "metadata": {},
   "outputs": [],
   "source": [
    "engine_size_sorted = np.sort(datasetwna.engine_size.unique())"
   ]
  },
  {
   "cell_type": "code",
   "execution_count": 82,
   "id": "537cd4f2",
   "metadata": {},
   "outputs": [],
   "source": [
    "engine_size_avg = []\n",
    "for engine_size in engine_size_sorted:\n",
    "    avg = datasetwna[datasetwna['engine_size'] == engine_size].avg_price_brl.mean()\n",
    "    engine_size_avg.append([engine_size, avg])\n",
    "engine_size_avg = pd.DataFrame(engine_size_avg, columns=['engine_size', 'avg_price_brl'])"
   ]
  },
  {
   "cell_type": "code",
   "execution_count": 132,
   "id": "07c49b73",
   "metadata": {},
   "outputs": [
    {
     "data": {
      "image/png": "[encoded data removed]",
      "text/plain": [
       "<Figure size 432x288 with 1 Axes>"
      ]
     },
     "metadata": {
      "needs_background": "light"
     },
     "output_type": "display_data"
    }
   ],
   "source": [
    "plt.plot(engine_size_avg.engine_size, engine_size_avg.avg_price_brl)\n",
    "plt.title('Average car price per engine size', fontsize=20, y=1.05)\n",
    "plt.xlabel('Engine Size', fontsize=14)\n",
    "plt.ylabel('Price in BRL', fontsize=14)\n",
    "plt.show()"
   ]
  },
  {
   "cell_type": "markdown",
   "id": "b432c2d5",
   "metadata": {},
   "source": [
    "R: Looking to the graph, we can see an noise in prices with sizes above 3.0 liters and trend to be considerable higher above 6 liter."
   ]
  },
  {
   "cell_type": "markdown",
   "id": "019b7600",
   "metadata": {},
   "source": [
    "### 5.Which are the expensive models ?"
   ]
  },
  {
   "cell_type": "code",
   "execution_count": 94,
   "id": "e2ab7296",
   "metadata": {},
   "outputs": [],
   "source": [
    "model_sorted = np.sort(datasetwna.model.unique())"
   ]
  },
  {
   "cell_type": "code",
   "execution_count": 96,
   "id": "f524ce57",
   "metadata": {},
   "outputs": [
    {
     "data": {
      "text/plain": [
       "6064"
      ]
     },
     "execution_count": 96,
     "metadata": {},
     "output_type": "execute_result"
    }
   ],
   "source": [
    "len(model_sorted)"
   ]
  },
  {
   "cell_type": "code",
   "execution_count": 98,
   "id": "5262b9b2",
   "metadata": {},
   "outputs": [],
   "source": [
    "model_avg = []\n",
    "for model in model_sorted :\n",
    "    avg = datasetwna[datasetwna['model'] == model].avg_price_brl.mean()\n",
    "    model_avg.append([model, avg])\n",
    "model_avg = pd.DataFrame(model_avg, columns=['model', 'avg_price_brl'])"
   ]
  },
  {
   "cell_type": "code",
   "execution_count": 111,
   "id": "28ac0d36",
   "metadata": {},
   "outputs": [],
   "source": [
    "model_avg_sot = model_avg.sort_values(by='avg_price_brl', ascending=False)[:5]"
   ]
  },
  {
   "cell_type": "code",
   "execution_count": 125,
   "id": "c6ab7ecd",
   "metadata": {},
   "outputs": [
    {
     "data": {
      "image/png": "[encoded data removed]",
      "text/plain": [
       "<Figure size 432x288 with 1 Axes>"
      ]
     },
     "metadata": {
      "needs_background": "light"
     },
     "output_type": "display_data"
    }
   ],
   "source": [
    "fig, ax = plt.subplots()\n",
    "ax.bar(model_avg_sot.model,  model_avg_sot.avg_price_brl)\n",
    "ax.set_title('Expensive cars according to FIPE table', fontsize=20, y=1.05)\n",
    "ax.set_xlabel('Model', fontsize=14)\n",
    "ax.set_ylabel('Price in BRL', fontsize=14)\n",
    "plt.setp(ax.get_xticklabels(), rotation=30, horizontalalignment='right')\n",
    "plt.show()"
   ]
  },
  {
   "cell_type": "code",
   "execution_count": 127,
   "id": "e0866f5a",
   "metadata": {},
   "outputs": [
    {
     "data": {
      "text/html": [
       "<div>\n",
       "<style scoped>\n",
       "    .dataframe tbody tr th:only-of-type {\n",
       "        vertical-align: middle;\n",
       "    }\n",
       "\n",
       "    .dataframe tbody tr th {\n",
       "        vertical-align: top;\n",
       "    }\n",
       "\n",
       "    .dataframe thead th {\n",
       "        text-align: right;\n",
       "    }\n",
       "</style>\n",
       "<table border=\"1\" class=\"dataframe\">\n",
       "  <thead>\n",
       "    <tr style=\"text-align: right;\">\n",
       "      <th></th>\n",
       "      <th>model</th>\n",
       "      <th>avg_price_brl</th>\n",
       "    </tr>\n",
       "  </thead>\n",
       "  <tbody>\n",
       "    <tr>\n",
       "      <th>4807</th>\n",
       "      <td>SF 90 SPIDER 4.0 V8 Bi-Turbo (Híbrido)</td>\n",
       "      <td>8.251858e+06</td>\n",
       "    </tr>\n",
       "    <tr>\n",
       "      <th>4808</th>\n",
       "      <td>SF 90 STRADALE 4.0 V8 Bi-Turbo (Híbrido)</td>\n",
       "      <td>7.102503e+06</td>\n",
       "    </tr>\n",
       "    <tr>\n",
       "      <th>1716</th>\n",
       "      <td>Cullinan Black Badge 6.7 V12 Aut.</td>\n",
       "      <td>6.942570e+06</td>\n",
       "    </tr>\n",
       "    <tr>\n",
       "      <th>2609</th>\n",
       "      <td>Ghost 6.7 V12 Aut.</td>\n",
       "      <td>6.706959e+06</td>\n",
       "    </tr>\n",
       "    <tr>\n",
       "      <th>434</th>\n",
       "      <td>812 GTS 6.5 V12 800cv</td>\n",
       "      <td>6.533849e+06</td>\n",
       "    </tr>\n",
       "  </tbody>\n",
       "</table>\n",
       "</div>"
      ],
      "text/plain": [
       "                                         model  avg_price_brl\n",
       "4807    SF 90 SPIDER 4.0 V8 Bi-Turbo (Híbrido)   8.251858e+06\n",
       "4808  SF 90 STRADALE 4.0 V8 Bi-Turbo (Híbrido)   7.102503e+06\n",
       "1716         Cullinan Black Badge 6.7 V12 Aut.   6.942570e+06\n",
       "2609                        Ghost 6.7 V12 Aut.   6.706959e+06\n",
       "434                      812 GTS 6.5 V12 800cv   6.533849e+06"
      ]
     },
     "execution_count": 127,
     "metadata": {},
     "output_type": "execute_result"
    }
   ],
   "source": [
    "model_avg_sot"
   ]
  },
  {
   "cell_type": "markdown",
   "id": "38368904",
   "metadata": {},
   "source": [
    "R: The most expensive car registered costs R$8.251.858,00 in average."
   ]
  },
  {
   "cell_type": "markdown",
   "id": "bafa6445",
   "metadata": {},
   "source": [
    "### 6.Which are the cheapest models?"
   ]
  },
  {
   "cell_type": "code",
   "execution_count": 113,
   "id": "ddbaa1e8",
   "metadata": {},
   "outputs": [],
   "source": [
    "model_avg_desc = model_avg.sort_values(by='avg_price_brl', ascending=True)[:5]"
   ]
  },
  {
   "cell_type": "code",
   "execution_count": 126,
   "id": "16f37efc",
   "metadata": {
    "scrolled": true
   },
   "outputs": [
    {
     "data": {
      "image/png": "[encoded data removed]",
      "text/plain": [
       "<Figure size 432x288 with 1 Axes>"
      ]
     },
     "metadata": {
      "needs_background": "light"
     },
     "output_type": "display_data"
    }
   ],
   "source": [
    "fig, ax = plt.subplots()\n",
    "ax.bar(model_avg_desc.model,  model_avg_desc.avg_price_brl)\n",
    "ax.set_title('Cheapest cars according to FIPE table', fontsize=20, y=1.05)\n",
    "ax.set_xlabel('Model', fontsize=14)\n",
    "ax.set_ylabel('Price in BRL', fontsize=14)\n",
    "plt.setp(ax.get_xticklabels(), rotation=30, horizontalalignment='right')\n",
    "plt.show()"
   ]
  },
  {
   "cell_type": "code",
   "execution_count": 128,
   "id": "bca94b4b",
   "metadata": {},
   "outputs": [
    {
     "data": {
      "text/html": [
       "<div>\n",
       "<style scoped>\n",
       "    .dataframe tbody tr th:only-of-type {\n",
       "        vertical-align: middle;\n",
       "    }\n",
       "\n",
       "    .dataframe tbody tr th {\n",
       "        vertical-align: top;\n",
       "    }\n",
       "\n",
       "    .dataframe thead th {\n",
       "        text-align: right;\n",
       "    }\n",
       "</style>\n",
       "<table border=\"1\" class=\"dataframe\">\n",
       "  <thead>\n",
       "    <tr style=\"text-align: right;\">\n",
       "      <th></th>\n",
       "      <th>model</th>\n",
       "      <th>avg_price_brl</th>\n",
       "    </tr>\n",
       "  </thead>\n",
       "  <tbody>\n",
       "    <tr>\n",
       "      <th>3379</th>\n",
       "      <td>Laika 1.5</td>\n",
       "      <td>2020.625000</td>\n",
       "    </tr>\n",
       "    <tr>\n",
       "      <th>862</th>\n",
       "      <td>Belina L 1.8/ 1.6</td>\n",
       "      <td>3002.250000</td>\n",
       "    </tr>\n",
       "    <tr>\n",
       "      <th>3380</th>\n",
       "      <td>Laika 1.6</td>\n",
       "      <td>3075.766667</td>\n",
       "    </tr>\n",
       "    <tr>\n",
       "      <th>5541</th>\n",
       "      <td>Uno Furgão 1.5/ 1.3</td>\n",
       "      <td>3151.430556</td>\n",
       "    </tr>\n",
       "    <tr>\n",
       "      <th>855</th>\n",
       "      <td>BX 1.6S 16V</td>\n",
       "      <td>3159.583333</td>\n",
       "    </tr>\n",
       "  </tbody>\n",
       "</table>\n",
       "</div>"
      ],
      "text/plain": [
       "                    model  avg_price_brl\n",
       "3379            Laika 1.5    2020.625000\n",
       "862     Belina L 1.8/ 1.6    3002.250000\n",
       "3380            Laika 1.6    3075.766667\n",
       "5541  Uno Furgão 1.5/ 1.3    3151.430556\n",
       "855           BX 1.6S 16V    3159.583333"
      ]
     },
     "execution_count": 128,
     "metadata": {},
     "output_type": "execute_result"
    }
   ],
   "source": [
    "model_avg_desc"
   ]
  },
  {
   "cell_type": "markdown",
   "id": "3ace8325",
   "metadata": {},
   "source": [
    "R: The cheapest car registered costs R$2020,00 in average."
   ]
  },
  {
   "cell_type": "markdown",
   "id": "7c7b4f27",
   "metadata": {},
   "source": [
    "### 7.Which months are more selling in 2022?"
   ]
  },
  {
   "cell_type": "code",
   "execution_count": 118,
   "id": "46985051",
   "metadata": {},
   "outputs": [],
   "source": [
    "months = ['January', 'February', 'March', 'April', 'May', 'June', 'July', 'August', 'September', 'October', 'November', 'December']"
   ]
  },
  {
   "cell_type": "code",
   "execution_count": 122,
   "id": "dd68f11f",
   "metadata": {},
   "outputs": [],
   "source": [
    "month_count = []\n",
    "for month in months:\n",
    "    ct = len(datasetwna[datasetwna['month_of_reference'] == month])\n",
    "    month_count.append([month, ct])\n",
    "month_count = pd.DataFrame(month_count, columns=['month', 'count_registered'])"
   ]
  },
  {
   "cell_type": "code",
   "execution_count": 124,
   "id": "d9c23622",
   "metadata": {
    "scrolled": true
   },
   "outputs": [
    {
     "data": {
      "image/png": "[encoded data removed]",
      "text/plain": [
       "<Figure size 432x288 with 1 Axes>"
      ]
     },
     "metadata": {
      "needs_background": "light"
     },
     "output_type": "display_data"
    }
   ],
   "source": [
    "fig, ax = plt.subplots()\n",
    "ax.plot(month_count.month, month_count.count_registered)\n",
    "ax.set_title('Count of car price registered throughout months', fontsize=20, y=1.05)\n",
    "ax.set_xlabel('Model', fontsize=14)\n",
    "ax.set_ylabel('Count of car registered', fontsize=14)\n",
    "plt.setp(ax.get_xticklabels(), rotation=30, horizontalalignment='right')\n",
    "plt.show()"
   ]
  },
  {
   "cell_type": "markdown",
   "id": "2ca4fdff",
   "metadata": {},
   "source": [
    "R: With the inflation worldwide, cars seems to be evaluate but instead, money lost value. Some people are enjoying higher pices and are trying to sell their cars in a \"good\" price. "
   ]
  },
  {
   "cell_type": "code",
   "execution_count": null,
   "id": "087a9d47",
   "metadata": {},
   "outputs": [],
   "source": []
  }
 ],
 "metadata": {
  "kernelspec": {
   "display_name": "Python 3 (ipykernel)",
   "language": "python",
   "name": "python3"
  },
  "language_info": {
   "codemirror_mode": {
    "name": "ipython",
    "version": 3
   },
   "file_extension": ".py",
   "mimetype": "text/x-python",
   "name": "python",
   "nbconvert_exporter": "python",
   "pygments_lexer": "ipython3",
   "version": "3.10.2"
  }
 },
 "nbformat": 4,
 "nbformat_minor": 5
}
