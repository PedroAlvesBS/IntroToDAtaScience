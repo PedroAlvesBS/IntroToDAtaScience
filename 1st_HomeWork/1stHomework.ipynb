{
 "cells": [
  {
   "cell_type": "markdown",
   "id": "d3d65ec5",
   "metadata": {},
   "source": [
    "# Alcohol Effects on Study\n",
    "\n",
    "### This data approach student achievement in secondary education of two Portuguese schools. The data attributes include student grades, demographic, social and school related features) and it was collected by using school reports and questionnaires. Two datasets are provided regarding the performance in two distinct subjects: Mathematics (mat) and Portuguese language (por). In [Cortez and Silva, 2008], the two datasets were modeled under binary/five-level classification and regression tasks. Important note: the target attribute G3 has a strong correlation with attributes G2 and G1. This occurs because G3 is the final year grade (issued at the 3rd period), while G1 and G2 correspond to the 1st and 2nd period grades. It is more difficult to predict G3 without G2 and G1, but such prediction is much more useful (see paper source for more details). Dataset Available at: __[Kaggle Dataset](https://www.kaggle.com/datasets/whenamancodes/alcohol-effects-on-study)__"
   ]
  },
  {
   "cell_type": "markdown",
   "id": "97838b1d",
   "metadata": {},
   "source": [
    "## Import Libraries"
   ]
  },
  {
   "cell_type": "code",
   "execution_count": 1,
   "id": "d4b00b50",
   "metadata": {},
   "outputs": [],
   "source": [
    "import pandas as pd\n",
    "import numpy as np\n",
    "import matplotlib.pyplot as plt"
   ]
  },
  {
   "cell_type": "markdown",
   "id": "02f579ae",
   "metadata": {},
   "source": [
    "## Loading the data"
   ]
  },
  {
   "cell_type": "code",
   "execution_count": 2,
   "id": "fe593f16",
   "metadata": {},
   "outputs": [],
   "source": [
    "PortugueseDS = pd.read_csv('.\\Portuguese.csv')\n",
    "MathDS = pd.read_csv('.\\Maths.csv')"
   ]
  },
  {
   "cell_type": "markdown",
   "id": "df34c1a6",
   "metadata": {},
   "source": [
    "## Peering into Portuguese Dataset"
   ]
  },
  {
   "cell_type": "code",
   "execution_count": 3,
   "id": "dcd6463d",
   "metadata": {
    "scrolled": true
   },
   "outputs": [
    {
     "data": {
      "text/html": [
       "<div>\n",
       "<style scoped>\n",
       "    .dataframe tbody tr th:only-of-type {\n",
       "        vertical-align: middle;\n",
       "    }\n",
       "\n",
       "    .dataframe tbody tr th {\n",
       "        vertical-align: top;\n",
       "    }\n",
       "\n",
       "    .dataframe thead th {\n",
       "        text-align: right;\n",
       "    }\n",
       "</style>\n",
       "<table border=\"1\" class=\"dataframe\">\n",
       "  <thead>\n",
       "    <tr style=\"text-align: right;\">\n",
       "      <th></th>\n",
       "      <th>age</th>\n",
       "      <th>Medu</th>\n",
       "      <th>Fedu</th>\n",
       "      <th>traveltime</th>\n",
       "      <th>studytime</th>\n",
       "      <th>failures</th>\n",
       "      <th>famrel</th>\n",
       "      <th>freetime</th>\n",
       "      <th>goout</th>\n",
       "      <th>Dalc</th>\n",
       "      <th>Walc</th>\n",
       "      <th>health</th>\n",
       "      <th>absences</th>\n",
       "      <th>G1</th>\n",
       "      <th>G2</th>\n",
       "      <th>G3</th>\n",
       "    </tr>\n",
       "  </thead>\n",
       "  <tbody>\n",
       "    <tr>\n",
       "      <th>count</th>\n",
       "      <td>649.000000</td>\n",
       "      <td>649.000000</td>\n",
       "      <td>649.000000</td>\n",
       "      <td>649.000000</td>\n",
       "      <td>649.000000</td>\n",
       "      <td>649.000000</td>\n",
       "      <td>649.000000</td>\n",
       "      <td>649.000000</td>\n",
       "      <td>649.000000</td>\n",
       "      <td>649.000000</td>\n",
       "      <td>649.000000</td>\n",
       "      <td>649.000000</td>\n",
       "      <td>649.000000</td>\n",
       "      <td>649.000000</td>\n",
       "      <td>649.000000</td>\n",
       "      <td>649.000000</td>\n",
       "    </tr>\n",
       "    <tr>\n",
       "      <th>mean</th>\n",
       "      <td>16.744222</td>\n",
       "      <td>2.514638</td>\n",
       "      <td>2.306626</td>\n",
       "      <td>1.568567</td>\n",
       "      <td>1.930663</td>\n",
       "      <td>0.221880</td>\n",
       "      <td>3.930663</td>\n",
       "      <td>3.180277</td>\n",
       "      <td>3.184900</td>\n",
       "      <td>1.502311</td>\n",
       "      <td>2.280431</td>\n",
       "      <td>3.536210</td>\n",
       "      <td>3.659476</td>\n",
       "      <td>11.399076</td>\n",
       "      <td>11.570108</td>\n",
       "      <td>11.906009</td>\n",
       "    </tr>\n",
       "    <tr>\n",
       "      <th>std</th>\n",
       "      <td>1.218138</td>\n",
       "      <td>1.134552</td>\n",
       "      <td>1.099931</td>\n",
       "      <td>0.748660</td>\n",
       "      <td>0.829510</td>\n",
       "      <td>0.593235</td>\n",
       "      <td>0.955717</td>\n",
       "      <td>1.051093</td>\n",
       "      <td>1.175766</td>\n",
       "      <td>0.924834</td>\n",
       "      <td>1.284380</td>\n",
       "      <td>1.446259</td>\n",
       "      <td>4.640759</td>\n",
       "      <td>2.745265</td>\n",
       "      <td>2.913639</td>\n",
       "      <td>3.230656</td>\n",
       "    </tr>\n",
       "    <tr>\n",
       "      <th>min</th>\n",
       "      <td>15.000000</td>\n",
       "      <td>0.000000</td>\n",
       "      <td>0.000000</td>\n",
       "      <td>1.000000</td>\n",
       "      <td>1.000000</td>\n",
       "      <td>0.000000</td>\n",
       "      <td>1.000000</td>\n",
       "      <td>1.000000</td>\n",
       "      <td>1.000000</td>\n",
       "      <td>1.000000</td>\n",
       "      <td>1.000000</td>\n",
       "      <td>1.000000</td>\n",
       "      <td>0.000000</td>\n",
       "      <td>0.000000</td>\n",
       "      <td>0.000000</td>\n",
       "      <td>0.000000</td>\n",
       "    </tr>\n",
       "    <tr>\n",
       "      <th>25%</th>\n",
       "      <td>16.000000</td>\n",
       "      <td>2.000000</td>\n",
       "      <td>1.000000</td>\n",
       "      <td>1.000000</td>\n",
       "      <td>1.000000</td>\n",
       "      <td>0.000000</td>\n",
       "      <td>4.000000</td>\n",
       "      <td>3.000000</td>\n",
       "      <td>2.000000</td>\n",
       "      <td>1.000000</td>\n",
       "      <td>1.000000</td>\n",
       "      <td>2.000000</td>\n",
       "      <td>0.000000</td>\n",
       "      <td>10.000000</td>\n",
       "      <td>10.000000</td>\n",
       "      <td>10.000000</td>\n",
       "    </tr>\n",
       "    <tr>\n",
       "      <th>50%</th>\n",
       "      <td>17.000000</td>\n",
       "      <td>2.000000</td>\n",
       "      <td>2.000000</td>\n",
       "      <td>1.000000</td>\n",
       "      <td>2.000000</td>\n",
       "      <td>0.000000</td>\n",
       "      <td>4.000000</td>\n",
       "      <td>3.000000</td>\n",
       "      <td>3.000000</td>\n",
       "      <td>1.000000</td>\n",
       "      <td>2.000000</td>\n",
       "      <td>4.000000</td>\n",
       "      <td>2.000000</td>\n",
       "      <td>11.000000</td>\n",
       "      <td>11.000000</td>\n",
       "      <td>12.000000</td>\n",
       "    </tr>\n",
       "    <tr>\n",
       "      <th>75%</th>\n",
       "      <td>18.000000</td>\n",
       "      <td>4.000000</td>\n",
       "      <td>3.000000</td>\n",
       "      <td>2.000000</td>\n",
       "      <td>2.000000</td>\n",
       "      <td>0.000000</td>\n",
       "      <td>5.000000</td>\n",
       "      <td>4.000000</td>\n",
       "      <td>4.000000</td>\n",
       "      <td>2.000000</td>\n",
       "      <td>3.000000</td>\n",
       "      <td>5.000000</td>\n",
       "      <td>6.000000</td>\n",
       "      <td>13.000000</td>\n",
       "      <td>13.000000</td>\n",
       "      <td>14.000000</td>\n",
       "    </tr>\n",
       "    <tr>\n",
       "      <th>max</th>\n",
       "      <td>22.000000</td>\n",
       "      <td>4.000000</td>\n",
       "      <td>4.000000</td>\n",
       "      <td>4.000000</td>\n",
       "      <td>4.000000</td>\n",
       "      <td>3.000000</td>\n",
       "      <td>5.000000</td>\n",
       "      <td>5.000000</td>\n",
       "      <td>5.000000</td>\n",
       "      <td>5.000000</td>\n",
       "      <td>5.000000</td>\n",
       "      <td>5.000000</td>\n",
       "      <td>32.000000</td>\n",
       "      <td>19.000000</td>\n",
       "      <td>19.000000</td>\n",
       "      <td>19.000000</td>\n",
       "    </tr>\n",
       "  </tbody>\n",
       "</table>\n",
       "</div>"
      ],
      "text/plain": [
       "              age        Medu        Fedu  traveltime   studytime    failures  \\\n",
       "count  649.000000  649.000000  649.000000  649.000000  649.000000  649.000000   \n",
       "mean    16.744222    2.514638    2.306626    1.568567    1.930663    0.221880   \n",
       "std      1.218138    1.134552    1.099931    0.748660    0.829510    0.593235   \n",
       "min     15.000000    0.000000    0.000000    1.000000    1.000000    0.000000   \n",
       "25%     16.000000    2.000000    1.000000    1.000000    1.000000    0.000000   \n",
       "50%     17.000000    2.000000    2.000000    1.000000    2.000000    0.000000   \n",
       "75%     18.000000    4.000000    3.000000    2.000000    2.000000    0.000000   \n",
       "max     22.000000    4.000000    4.000000    4.000000    4.000000    3.000000   \n",
       "\n",
       "           famrel    freetime       goout        Dalc        Walc      health  \\\n",
       "count  649.000000  649.000000  649.000000  649.000000  649.000000  649.000000   \n",
       "mean     3.930663    3.180277    3.184900    1.502311    2.280431    3.536210   \n",
       "std      0.955717    1.051093    1.175766    0.924834    1.284380    1.446259   \n",
       "min      1.000000    1.000000    1.000000    1.000000    1.000000    1.000000   \n",
       "25%      4.000000    3.000000    2.000000    1.000000    1.000000    2.000000   \n",
       "50%      4.000000    3.000000    3.000000    1.000000    2.000000    4.000000   \n",
       "75%      5.000000    4.000000    4.000000    2.000000    3.000000    5.000000   \n",
       "max      5.000000    5.000000    5.000000    5.000000    5.000000    5.000000   \n",
       "\n",
       "         absences          G1          G2          G3  \n",
       "count  649.000000  649.000000  649.000000  649.000000  \n",
       "mean     3.659476   11.399076   11.570108   11.906009  \n",
       "std      4.640759    2.745265    2.913639    3.230656  \n",
       "min      0.000000    0.000000    0.000000    0.000000  \n",
       "25%      0.000000   10.000000   10.000000   10.000000  \n",
       "50%      2.000000   11.000000   11.000000   12.000000  \n",
       "75%      6.000000   13.000000   13.000000   14.000000  \n",
       "max     32.000000   19.000000   19.000000   19.000000  "
      ]
     },
     "execution_count": 3,
     "metadata": {},
     "output_type": "execute_result"
    }
   ],
   "source": [
    "PortugueseDS.describe()"
   ]
  },
  {
   "cell_type": "code",
   "execution_count": 4,
   "id": "d10924b4",
   "metadata": {
    "scrolled": false
   },
   "outputs": [
    {
     "data": {
      "text/html": [
       "<div>\n",
       "<style scoped>\n",
       "    .dataframe tbody tr th:only-of-type {\n",
       "        vertical-align: middle;\n",
       "    }\n",
       "\n",
       "    .dataframe tbody tr th {\n",
       "        vertical-align: top;\n",
       "    }\n",
       "\n",
       "    .dataframe thead th {\n",
       "        text-align: right;\n",
       "    }\n",
       "</style>\n",
       "<table border=\"1\" class=\"dataframe\">\n",
       "  <thead>\n",
       "    <tr style=\"text-align: right;\">\n",
       "      <th></th>\n",
       "      <th>school</th>\n",
       "      <th>sex</th>\n",
       "      <th>age</th>\n",
       "      <th>address</th>\n",
       "      <th>famsize</th>\n",
       "      <th>Pstatus</th>\n",
       "      <th>Medu</th>\n",
       "      <th>Fedu</th>\n",
       "      <th>Mjob</th>\n",
       "      <th>Fjob</th>\n",
       "      <th>...</th>\n",
       "      <th>famrel</th>\n",
       "      <th>freetime</th>\n",
       "      <th>goout</th>\n",
       "      <th>Dalc</th>\n",
       "      <th>Walc</th>\n",
       "      <th>health</th>\n",
       "      <th>absences</th>\n",
       "      <th>G1</th>\n",
       "      <th>G2</th>\n",
       "      <th>G3</th>\n",
       "    </tr>\n",
       "  </thead>\n",
       "  <tbody>\n",
       "    <tr>\n",
       "      <th>0</th>\n",
       "      <td>GP</td>\n",
       "      <td>F</td>\n",
       "      <td>18</td>\n",
       "      <td>U</td>\n",
       "      <td>GT3</td>\n",
       "      <td>A</td>\n",
       "      <td>4</td>\n",
       "      <td>4</td>\n",
       "      <td>at_home</td>\n",
       "      <td>teacher</td>\n",
       "      <td>...</td>\n",
       "      <td>4</td>\n",
       "      <td>3</td>\n",
       "      <td>4</td>\n",
       "      <td>1</td>\n",
       "      <td>1</td>\n",
       "      <td>3</td>\n",
       "      <td>4</td>\n",
       "      <td>0</td>\n",
       "      <td>11</td>\n",
       "      <td>11</td>\n",
       "    </tr>\n",
       "    <tr>\n",
       "      <th>1</th>\n",
       "      <td>GP</td>\n",
       "      <td>F</td>\n",
       "      <td>17</td>\n",
       "      <td>U</td>\n",
       "      <td>GT3</td>\n",
       "      <td>T</td>\n",
       "      <td>1</td>\n",
       "      <td>1</td>\n",
       "      <td>at_home</td>\n",
       "      <td>other</td>\n",
       "      <td>...</td>\n",
       "      <td>5</td>\n",
       "      <td>3</td>\n",
       "      <td>3</td>\n",
       "      <td>1</td>\n",
       "      <td>1</td>\n",
       "      <td>3</td>\n",
       "      <td>2</td>\n",
       "      <td>9</td>\n",
       "      <td>11</td>\n",
       "      <td>11</td>\n",
       "    </tr>\n",
       "    <tr>\n",
       "      <th>2</th>\n",
       "      <td>GP</td>\n",
       "      <td>F</td>\n",
       "      <td>15</td>\n",
       "      <td>U</td>\n",
       "      <td>LE3</td>\n",
       "      <td>T</td>\n",
       "      <td>1</td>\n",
       "      <td>1</td>\n",
       "      <td>at_home</td>\n",
       "      <td>other</td>\n",
       "      <td>...</td>\n",
       "      <td>4</td>\n",
       "      <td>3</td>\n",
       "      <td>2</td>\n",
       "      <td>2</td>\n",
       "      <td>3</td>\n",
       "      <td>3</td>\n",
       "      <td>6</td>\n",
       "      <td>12</td>\n",
       "      <td>13</td>\n",
       "      <td>12</td>\n",
       "    </tr>\n",
       "    <tr>\n",
       "      <th>3</th>\n",
       "      <td>GP</td>\n",
       "      <td>F</td>\n",
       "      <td>15</td>\n",
       "      <td>U</td>\n",
       "      <td>GT3</td>\n",
       "      <td>T</td>\n",
       "      <td>4</td>\n",
       "      <td>2</td>\n",
       "      <td>health</td>\n",
       "      <td>services</td>\n",
       "      <td>...</td>\n",
       "      <td>3</td>\n",
       "      <td>2</td>\n",
       "      <td>2</td>\n",
       "      <td>1</td>\n",
       "      <td>1</td>\n",
       "      <td>5</td>\n",
       "      <td>0</td>\n",
       "      <td>14</td>\n",
       "      <td>14</td>\n",
       "      <td>14</td>\n",
       "    </tr>\n",
       "    <tr>\n",
       "      <th>4</th>\n",
       "      <td>GP</td>\n",
       "      <td>F</td>\n",
       "      <td>16</td>\n",
       "      <td>U</td>\n",
       "      <td>GT3</td>\n",
       "      <td>T</td>\n",
       "      <td>3</td>\n",
       "      <td>3</td>\n",
       "      <td>other</td>\n",
       "      <td>other</td>\n",
       "      <td>...</td>\n",
       "      <td>4</td>\n",
       "      <td>3</td>\n",
       "      <td>2</td>\n",
       "      <td>1</td>\n",
       "      <td>2</td>\n",
       "      <td>5</td>\n",
       "      <td>0</td>\n",
       "      <td>11</td>\n",
       "      <td>13</td>\n",
       "      <td>13</td>\n",
       "    </tr>\n",
       "  </tbody>\n",
       "</table>\n",
       "<p>5 rows × 33 columns</p>\n",
       "</div>"
      ],
      "text/plain": [
       "  school sex  age address famsize Pstatus  Medu  Fedu     Mjob      Fjob  ...  \\\n",
       "0     GP   F   18       U     GT3       A     4     4  at_home   teacher  ...   \n",
       "1     GP   F   17       U     GT3       T     1     1  at_home     other  ...   \n",
       "2     GP   F   15       U     LE3       T     1     1  at_home     other  ...   \n",
       "3     GP   F   15       U     GT3       T     4     2   health  services  ...   \n",
       "4     GP   F   16       U     GT3       T     3     3    other     other  ...   \n",
       "\n",
       "  famrel freetime  goout  Dalc  Walc health absences  G1  G2  G3  \n",
       "0      4        3      4     1     1      3        4   0  11  11  \n",
       "1      5        3      3     1     1      3        2   9  11  11  \n",
       "2      4        3      2     2     3      3        6  12  13  12  \n",
       "3      3        2      2     1     1      5        0  14  14  14  \n",
       "4      4        3      2     1     2      5        0  11  13  13  \n",
       "\n",
       "[5 rows x 33 columns]"
      ]
     },
     "execution_count": 4,
     "metadata": {},
     "output_type": "execute_result"
    }
   ],
   "source": [
    "PortugueseDS.head()"
   ]
  },
  {
   "cell_type": "markdown",
   "id": "bdeefbe9",
   "metadata": {},
   "source": [
    "## Peering into Maths Dataset"
   ]
  },
  {
   "cell_type": "code",
   "execution_count": 5,
   "id": "c51eb60a",
   "metadata": {},
   "outputs": [
    {
     "data": {
      "text/html": [
       "<div>\n",
       "<style scoped>\n",
       "    .dataframe tbody tr th:only-of-type {\n",
       "        vertical-align: middle;\n",
       "    }\n",
       "\n",
       "    .dataframe tbody tr th {\n",
       "        vertical-align: top;\n",
       "    }\n",
       "\n",
       "    .dataframe thead th {\n",
       "        text-align: right;\n",
       "    }\n",
       "</style>\n",
       "<table border=\"1\" class=\"dataframe\">\n",
       "  <thead>\n",
       "    <tr style=\"text-align: right;\">\n",
       "      <th></th>\n",
       "      <th>age</th>\n",
       "      <th>Medu</th>\n",
       "      <th>Fedu</th>\n",
       "      <th>traveltime</th>\n",
       "      <th>studytime</th>\n",
       "      <th>failures</th>\n",
       "      <th>famrel</th>\n",
       "      <th>freetime</th>\n",
       "      <th>goout</th>\n",
       "      <th>Dalc</th>\n",
       "      <th>Walc</th>\n",
       "      <th>health</th>\n",
       "      <th>absences</th>\n",
       "      <th>G1</th>\n",
       "      <th>G2</th>\n",
       "      <th>G3</th>\n",
       "    </tr>\n",
       "  </thead>\n",
       "  <tbody>\n",
       "    <tr>\n",
       "      <th>count</th>\n",
       "      <td>395.000000</td>\n",
       "      <td>395.000000</td>\n",
       "      <td>395.000000</td>\n",
       "      <td>395.000000</td>\n",
       "      <td>395.000000</td>\n",
       "      <td>395.000000</td>\n",
       "      <td>395.000000</td>\n",
       "      <td>395.000000</td>\n",
       "      <td>395.000000</td>\n",
       "      <td>395.000000</td>\n",
       "      <td>395.000000</td>\n",
       "      <td>395.000000</td>\n",
       "      <td>395.000000</td>\n",
       "      <td>395.000000</td>\n",
       "      <td>395.000000</td>\n",
       "      <td>395.000000</td>\n",
       "    </tr>\n",
       "    <tr>\n",
       "      <th>mean</th>\n",
       "      <td>16.696203</td>\n",
       "      <td>2.749367</td>\n",
       "      <td>2.521519</td>\n",
       "      <td>1.448101</td>\n",
       "      <td>2.035443</td>\n",
       "      <td>0.334177</td>\n",
       "      <td>3.944304</td>\n",
       "      <td>3.235443</td>\n",
       "      <td>3.108861</td>\n",
       "      <td>1.481013</td>\n",
       "      <td>2.291139</td>\n",
       "      <td>3.554430</td>\n",
       "      <td>5.708861</td>\n",
       "      <td>10.908861</td>\n",
       "      <td>10.713924</td>\n",
       "      <td>10.415190</td>\n",
       "    </tr>\n",
       "    <tr>\n",
       "      <th>std</th>\n",
       "      <td>1.276043</td>\n",
       "      <td>1.094735</td>\n",
       "      <td>1.088201</td>\n",
       "      <td>0.697505</td>\n",
       "      <td>0.839240</td>\n",
       "      <td>0.743651</td>\n",
       "      <td>0.896659</td>\n",
       "      <td>0.998862</td>\n",
       "      <td>1.113278</td>\n",
       "      <td>0.890741</td>\n",
       "      <td>1.287897</td>\n",
       "      <td>1.390303</td>\n",
       "      <td>8.003096</td>\n",
       "      <td>3.319195</td>\n",
       "      <td>3.761505</td>\n",
       "      <td>4.581443</td>\n",
       "    </tr>\n",
       "    <tr>\n",
       "      <th>min</th>\n",
       "      <td>15.000000</td>\n",
       "      <td>0.000000</td>\n",
       "      <td>0.000000</td>\n",
       "      <td>1.000000</td>\n",
       "      <td>1.000000</td>\n",
       "      <td>0.000000</td>\n",
       "      <td>1.000000</td>\n",
       "      <td>1.000000</td>\n",
       "      <td>1.000000</td>\n",
       "      <td>1.000000</td>\n",
       "      <td>1.000000</td>\n",
       "      <td>1.000000</td>\n",
       "      <td>0.000000</td>\n",
       "      <td>3.000000</td>\n",
       "      <td>0.000000</td>\n",
       "      <td>0.000000</td>\n",
       "    </tr>\n",
       "    <tr>\n",
       "      <th>25%</th>\n",
       "      <td>16.000000</td>\n",
       "      <td>2.000000</td>\n",
       "      <td>2.000000</td>\n",
       "      <td>1.000000</td>\n",
       "      <td>1.000000</td>\n",
       "      <td>0.000000</td>\n",
       "      <td>4.000000</td>\n",
       "      <td>3.000000</td>\n",
       "      <td>2.000000</td>\n",
       "      <td>1.000000</td>\n",
       "      <td>1.000000</td>\n",
       "      <td>3.000000</td>\n",
       "      <td>0.000000</td>\n",
       "      <td>8.000000</td>\n",
       "      <td>9.000000</td>\n",
       "      <td>8.000000</td>\n",
       "    </tr>\n",
       "    <tr>\n",
       "      <th>50%</th>\n",
       "      <td>17.000000</td>\n",
       "      <td>3.000000</td>\n",
       "      <td>2.000000</td>\n",
       "      <td>1.000000</td>\n",
       "      <td>2.000000</td>\n",
       "      <td>0.000000</td>\n",
       "      <td>4.000000</td>\n",
       "      <td>3.000000</td>\n",
       "      <td>3.000000</td>\n",
       "      <td>1.000000</td>\n",
       "      <td>2.000000</td>\n",
       "      <td>4.000000</td>\n",
       "      <td>4.000000</td>\n",
       "      <td>11.000000</td>\n",
       "      <td>11.000000</td>\n",
       "      <td>11.000000</td>\n",
       "    </tr>\n",
       "    <tr>\n",
       "      <th>75%</th>\n",
       "      <td>18.000000</td>\n",
       "      <td>4.000000</td>\n",
       "      <td>3.000000</td>\n",
       "      <td>2.000000</td>\n",
       "      <td>2.000000</td>\n",
       "      <td>0.000000</td>\n",
       "      <td>5.000000</td>\n",
       "      <td>4.000000</td>\n",
       "      <td>4.000000</td>\n",
       "      <td>2.000000</td>\n",
       "      <td>3.000000</td>\n",
       "      <td>5.000000</td>\n",
       "      <td>8.000000</td>\n",
       "      <td>13.000000</td>\n",
       "      <td>13.000000</td>\n",
       "      <td>14.000000</td>\n",
       "    </tr>\n",
       "    <tr>\n",
       "      <th>max</th>\n",
       "      <td>22.000000</td>\n",
       "      <td>4.000000</td>\n",
       "      <td>4.000000</td>\n",
       "      <td>4.000000</td>\n",
       "      <td>4.000000</td>\n",
       "      <td>3.000000</td>\n",
       "      <td>5.000000</td>\n",
       "      <td>5.000000</td>\n",
       "      <td>5.000000</td>\n",
       "      <td>5.000000</td>\n",
       "      <td>5.000000</td>\n",
       "      <td>5.000000</td>\n",
       "      <td>75.000000</td>\n",
       "      <td>19.000000</td>\n",
       "      <td>19.000000</td>\n",
       "      <td>20.000000</td>\n",
       "    </tr>\n",
       "  </tbody>\n",
       "</table>\n",
       "</div>"
      ],
      "text/plain": [
       "              age        Medu        Fedu  traveltime   studytime    failures  \\\n",
       "count  395.000000  395.000000  395.000000  395.000000  395.000000  395.000000   \n",
       "mean    16.696203    2.749367    2.521519    1.448101    2.035443    0.334177   \n",
       "std      1.276043    1.094735    1.088201    0.697505    0.839240    0.743651   \n",
       "min     15.000000    0.000000    0.000000    1.000000    1.000000    0.000000   \n",
       "25%     16.000000    2.000000    2.000000    1.000000    1.000000    0.000000   \n",
       "50%     17.000000    3.000000    2.000000    1.000000    2.000000    0.000000   \n",
       "75%     18.000000    4.000000    3.000000    2.000000    2.000000    0.000000   \n",
       "max     22.000000    4.000000    4.000000    4.000000    4.000000    3.000000   \n",
       "\n",
       "           famrel    freetime       goout        Dalc        Walc      health  \\\n",
       "count  395.000000  395.000000  395.000000  395.000000  395.000000  395.000000   \n",
       "mean     3.944304    3.235443    3.108861    1.481013    2.291139    3.554430   \n",
       "std      0.896659    0.998862    1.113278    0.890741    1.287897    1.390303   \n",
       "min      1.000000    1.000000    1.000000    1.000000    1.000000    1.000000   \n",
       "25%      4.000000    3.000000    2.000000    1.000000    1.000000    3.000000   \n",
       "50%      4.000000    3.000000    3.000000    1.000000    2.000000    4.000000   \n",
       "75%      5.000000    4.000000    4.000000    2.000000    3.000000    5.000000   \n",
       "max      5.000000    5.000000    5.000000    5.000000    5.000000    5.000000   \n",
       "\n",
       "         absences          G1          G2          G3  \n",
       "count  395.000000  395.000000  395.000000  395.000000  \n",
       "mean     5.708861   10.908861   10.713924   10.415190  \n",
       "std      8.003096    3.319195    3.761505    4.581443  \n",
       "min      0.000000    3.000000    0.000000    0.000000  \n",
       "25%      0.000000    8.000000    9.000000    8.000000  \n",
       "50%      4.000000   11.000000   11.000000   11.000000  \n",
       "75%      8.000000   13.000000   13.000000   14.000000  \n",
       "max     75.000000   19.000000   19.000000   20.000000  "
      ]
     },
     "execution_count": 5,
     "metadata": {},
     "output_type": "execute_result"
    }
   ],
   "source": [
    "MathDS.describe()"
   ]
  },
  {
   "cell_type": "code",
   "execution_count": 6,
   "id": "4ffc63b1",
   "metadata": {},
   "outputs": [
    {
     "data": {
      "text/html": [
       "<div>\n",
       "<style scoped>\n",
       "    .dataframe tbody tr th:only-of-type {\n",
       "        vertical-align: middle;\n",
       "    }\n",
       "\n",
       "    .dataframe tbody tr th {\n",
       "        vertical-align: top;\n",
       "    }\n",
       "\n",
       "    .dataframe thead th {\n",
       "        text-align: right;\n",
       "    }\n",
       "</style>\n",
       "<table border=\"1\" class=\"dataframe\">\n",
       "  <thead>\n",
       "    <tr style=\"text-align: right;\">\n",
       "      <th></th>\n",
       "      <th>school</th>\n",
       "      <th>sex</th>\n",
       "      <th>age</th>\n",
       "      <th>address</th>\n",
       "      <th>famsize</th>\n",
       "      <th>Pstatus</th>\n",
       "      <th>Medu</th>\n",
       "      <th>Fedu</th>\n",
       "      <th>Mjob</th>\n",
       "      <th>Fjob</th>\n",
       "      <th>...</th>\n",
       "      <th>famrel</th>\n",
       "      <th>freetime</th>\n",
       "      <th>goout</th>\n",
       "      <th>Dalc</th>\n",
       "      <th>Walc</th>\n",
       "      <th>health</th>\n",
       "      <th>absences</th>\n",
       "      <th>G1</th>\n",
       "      <th>G2</th>\n",
       "      <th>G3</th>\n",
       "    </tr>\n",
       "  </thead>\n",
       "  <tbody>\n",
       "    <tr>\n",
       "      <th>0</th>\n",
       "      <td>GP</td>\n",
       "      <td>F</td>\n",
       "      <td>18</td>\n",
       "      <td>U</td>\n",
       "      <td>GT3</td>\n",
       "      <td>A</td>\n",
       "      <td>4</td>\n",
       "      <td>4</td>\n",
       "      <td>at_home</td>\n",
       "      <td>teacher</td>\n",
       "      <td>...</td>\n",
       "      <td>4</td>\n",
       "      <td>3</td>\n",
       "      <td>4</td>\n",
       "      <td>1</td>\n",
       "      <td>1</td>\n",
       "      <td>3</td>\n",
       "      <td>6</td>\n",
       "      <td>5</td>\n",
       "      <td>6</td>\n",
       "      <td>6</td>\n",
       "    </tr>\n",
       "    <tr>\n",
       "      <th>1</th>\n",
       "      <td>GP</td>\n",
       "      <td>F</td>\n",
       "      <td>17</td>\n",
       "      <td>U</td>\n",
       "      <td>GT3</td>\n",
       "      <td>T</td>\n",
       "      <td>1</td>\n",
       "      <td>1</td>\n",
       "      <td>at_home</td>\n",
       "      <td>other</td>\n",
       "      <td>...</td>\n",
       "      <td>5</td>\n",
       "      <td>3</td>\n",
       "      <td>3</td>\n",
       "      <td>1</td>\n",
       "      <td>1</td>\n",
       "      <td>3</td>\n",
       "      <td>4</td>\n",
       "      <td>5</td>\n",
       "      <td>5</td>\n",
       "      <td>6</td>\n",
       "    </tr>\n",
       "    <tr>\n",
       "      <th>2</th>\n",
       "      <td>GP</td>\n",
       "      <td>F</td>\n",
       "      <td>15</td>\n",
       "      <td>U</td>\n",
       "      <td>LE3</td>\n",
       "      <td>T</td>\n",
       "      <td>1</td>\n",
       "      <td>1</td>\n",
       "      <td>at_home</td>\n",
       "      <td>other</td>\n",
       "      <td>...</td>\n",
       "      <td>4</td>\n",
       "      <td>3</td>\n",
       "      <td>2</td>\n",
       "      <td>2</td>\n",
       "      <td>3</td>\n",
       "      <td>3</td>\n",
       "      <td>10</td>\n",
       "      <td>7</td>\n",
       "      <td>8</td>\n",
       "      <td>10</td>\n",
       "    </tr>\n",
       "    <tr>\n",
       "      <th>3</th>\n",
       "      <td>GP</td>\n",
       "      <td>F</td>\n",
       "      <td>15</td>\n",
       "      <td>U</td>\n",
       "      <td>GT3</td>\n",
       "      <td>T</td>\n",
       "      <td>4</td>\n",
       "      <td>2</td>\n",
       "      <td>health</td>\n",
       "      <td>services</td>\n",
       "      <td>...</td>\n",
       "      <td>3</td>\n",
       "      <td>2</td>\n",
       "      <td>2</td>\n",
       "      <td>1</td>\n",
       "      <td>1</td>\n",
       "      <td>5</td>\n",
       "      <td>2</td>\n",
       "      <td>15</td>\n",
       "      <td>14</td>\n",
       "      <td>15</td>\n",
       "    </tr>\n",
       "    <tr>\n",
       "      <th>4</th>\n",
       "      <td>GP</td>\n",
       "      <td>F</td>\n",
       "      <td>16</td>\n",
       "      <td>U</td>\n",
       "      <td>GT3</td>\n",
       "      <td>T</td>\n",
       "      <td>3</td>\n",
       "      <td>3</td>\n",
       "      <td>other</td>\n",
       "      <td>other</td>\n",
       "      <td>...</td>\n",
       "      <td>4</td>\n",
       "      <td>3</td>\n",
       "      <td>2</td>\n",
       "      <td>1</td>\n",
       "      <td>2</td>\n",
       "      <td>5</td>\n",
       "      <td>4</td>\n",
       "      <td>6</td>\n",
       "      <td>10</td>\n",
       "      <td>10</td>\n",
       "    </tr>\n",
       "  </tbody>\n",
       "</table>\n",
       "<p>5 rows × 33 columns</p>\n",
       "</div>"
      ],
      "text/plain": [
       "  school sex  age address famsize Pstatus  Medu  Fedu     Mjob      Fjob  ...  \\\n",
       "0     GP   F   18       U     GT3       A     4     4  at_home   teacher  ...   \n",
       "1     GP   F   17       U     GT3       T     1     1  at_home     other  ...   \n",
       "2     GP   F   15       U     LE3       T     1     1  at_home     other  ...   \n",
       "3     GP   F   15       U     GT3       T     4     2   health  services  ...   \n",
       "4     GP   F   16       U     GT3       T     3     3    other     other  ...   \n",
       "\n",
       "  famrel freetime  goout  Dalc  Walc health absences  G1  G2  G3  \n",
       "0      4        3      4     1     1      3        6   5   6   6  \n",
       "1      5        3      3     1     1      3        4   5   5   6  \n",
       "2      4        3      2     2     3      3       10   7   8  10  \n",
       "3      3        2      2     1     1      5        2  15  14  15  \n",
       "4      4        3      2     1     2      5        4   6  10  10  \n",
       "\n",
       "[5 rows x 33 columns]"
      ]
     },
     "execution_count": 6,
     "metadata": {},
     "output_type": "execute_result"
    }
   ],
   "source": [
    "MathDS.head()"
   ]
  },
  {
   "cell_type": "markdown",
   "id": "8246a14e",
   "metadata": {},
   "source": [
    "### Which questions to do to the data? \n"
   ]
  },
  {
   "cell_type": "code",
   "execution_count": 7,
   "id": "adea664d",
   "metadata": {},
   "outputs": [],
   "source": [
    "# Creating a column of grade average\n",
    "MathDS['GradeAverage'] = round((MathDS['G1']+MathDS['G2']+MathDS['G3'])/3)\n",
    "PortugueseDS['GradeAverage'] = round((PortugueseDS['G1']+PortugueseDS['G2']+PortugueseDS['G3'])/3)"
   ]
  },
  {
   "cell_type": "markdown",
   "id": "92e3f008",
   "metadata": {},
   "source": [
    "#### 1. Does the absences number interfere with the grades? "
   ]
  },
  {
   "cell_type": "code",
   "execution_count": 8,
   "id": "fe196fea",
   "metadata": {},
   "outputs": [
    {
     "data": {
      "image/png": "[encoded data removed]",
      "text/plain": [
       "<Figure size 432x288 with 2 Axes>"
      ]
     },
     "metadata": {
      "needs_background": "light"
     },
     "output_type": "display_data"
    }
   ],
   "source": [
    "number_of_math_absences = MathDS['absences'].sort_values().unique()\n",
    "\n",
    "absences_m = []\n",
    "for i in number_of_math_absences:\n",
    "    ct = MathDS[MathDS.absences==i]['GradeAverage'].count()\n",
    "    avg = round(MathDS[MathDS.absences==i]['GradeAverage'].mean())\n",
    "    tempvec = [i, ct, avg]\n",
    "    absences_m.append(tempvec)\n",
    "    \n",
    "absences_m = pd.DataFrame(absences_m)\n",
    "absences_m.columns = ['absence','count','gradeaverage']\n",
    "absences_m.reset_index(drop=True)\n",
    "\n",
    "x = absences_m['absence']\n",
    "y1 = absences_m['count']\n",
    "y2 = absences_m['gradeaverage']\n",
    "\n",
    "\n",
    "fig, ax1 = plt.subplots()\n",
    "\n",
    "color = 'tab:red'\n",
    "ax1.set_xlabel('Absences number')\n",
    "ax1.set_ylabel('Number of Students', color=color)\n",
    "ax1.bar(x, y1, color=color)\n",
    "ax1.tick_params(axis='y', labelcolor=color)\n",
    "\n",
    "ax2 = ax1.twinx()\n",
    "\n",
    "color = 'tab:blue'\n",
    "ax2.set_ylabel('Grade Average', color=color) \n",
    "ax2.plot(x, y2, color=color)\n",
    "ax2.tick_params(axis='y', labelcolor=color)\n",
    "\n",
    "ax2.set_title('Math Students Frequency and Grade Average', fontsize=18)\n",
    "\n",
    "fig.tight_layout()  \n",
    "plt.show()"
   ]
  },
  {
   "cell_type": "code",
   "execution_count": 9,
   "id": "33944991",
   "metadata": {},
   "outputs": [
    {
     "data": {
      "image/png": "[encoded data removed]",
      "text/plain": [
       "<Figure size 432x288 with 2 Axes>"
      ]
     },
     "metadata": {
      "needs_background": "light"
     },
     "output_type": "display_data"
    }
   ],
   "source": [
    "number_of_portuguese_absences = PortugueseDS['absences'].sort_values().unique()\n",
    "\n",
    "absences_p = []\n",
    "for i in number_of_portuguese_absences:\n",
    "    ct = PortugueseDS[PortugueseDS.absences==i]['GradeAverage'].count()\n",
    "    avg = round(PortugueseDS[PortugueseDS.absences==i]['GradeAverage'].mean())\n",
    "    tempvec = [i, ct, avg]\n",
    "    absences_p.append(tempvec)\n",
    "    \n",
    "absences_p = pd.DataFrame(absences_p)\n",
    "absences_p.columns = ['absence','count','gradeaverage']\n",
    "absences_p.reset_index(drop=True)\n",
    "\n",
    "x1 = absences_p['absence']\n",
    "y3 = absences_p['count']\n",
    "y4 = absences_p['gradeaverage']\n",
    "\n",
    "\n",
    "fig1, ax3 = plt.subplots()\n",
    "\n",
    "color = 'tab:red'\n",
    "ax3.set_xlabel('Absences number')\n",
    "ax3.set_ylabel('Number of Students', color=color)\n",
    "ax3.bar(x1, y3, color=color)\n",
    "ax3.tick_params(axis='y', labelcolor=color)\n",
    "\n",
    "ax4 = ax3.twinx()\n",
    "\n",
    "color = 'tab:blue'\n",
    "ax4.set_ylabel('Grade Average', color=color) \n",
    "ax4.plot(x1, y4, color=color)\n",
    "ax4.tick_params(axis='y', labelcolor=color)\n",
    "\n",
    "ax3.set_title('Portuguese Students Frequency and Grade Average', fontsize=18)\n",
    "\n",
    "fig1.tight_layout()  \n",
    "plt.show()"
   ]
  },
  {
   "cell_type": "markdown",
   "id": "8b170b2a",
   "metadata": {},
   "source": [
    "R: Visually, portuguese students that have high frequency trend be stable at average, while when increasing the absences, the grade average graph starts to become caotic and not conclusive. On math students, even with high frequencies, they trend to be above in grade average. "
   ]
  },
  {
   "cell_type": "markdown",
   "id": "44e99cc0",
   "metadata": {},
   "source": [
    "#### 2. The alcohol ingestion is harmful to the grades?"
   ]
  },
  {
   "cell_type": "code",
   "execution_count": 10,
   "id": "05799296",
   "metadata": {},
   "outputs": [],
   "source": [
    "m_week_alc = MathDS['Walc'].sort_values().unique()\n",
    "p_week_alc = PortugueseDS['Walc'].sort_values().unique()"
   ]
  },
  {
   "cell_type": "code",
   "execution_count": 11,
   "id": "ff7284c8",
   "metadata": {},
   "outputs": [],
   "source": [
    "math_walc_gradavg = []\n",
    "for i in m_week_alc:\n",
    "    avg = round(MathDS[MathDS.Walc == i]['GradeAverage'].mean())\n",
    "    walc_avg = [i, avg]\n",
    "    math_walc_gradavg.append(walc_avg)\n",
    "\n",
    "math_walc_gradavg = pd.DataFrame(math_walc_gradavg, columns=['walc', 'gradeaverage'])\n",
    "\n",
    "portuguese_walc_gradavg = []\n",
    "for i in p_week_alc:\n",
    "    avg = round(PortugueseDS[PortugueseDS.Walc == i]['GradeAverage'].mean())\n",
    "    walc_avg = [i, avg]\n",
    "    portuguese_walc_gradavg.append(walc_avg)\n",
    "    \n",
    "portuguese_walc_gradavg = pd.DataFrame(portuguese_walc_gradavg, columns=['walc', 'gradeaverage'])"
   ]
  },
  {
   "cell_type": "code",
   "execution_count": 12,
   "id": "af995bf1",
   "metadata": {},
   "outputs": [
    {
     "data": {
      "text/plain": [
       "<matplotlib.legend.Legend at 0x1993d6cd240>"
      ]
     },
     "execution_count": 12,
     "metadata": {},
     "output_type": "execute_result"
    },
    {
     "data": {
      "image/png": "[encoded data removed]",
      "text/plain": [
       "<Figure size 432x288 with 1 Axes>"
      ]
     },
     "metadata": {
      "needs_background": "light"
     },
     "output_type": "display_data"
    }
   ],
   "source": [
    "x = portuguese_walc_gradavg['walc']\n",
    "ym = math_walc_gradavg['gradeaverage']\n",
    "yp = portuguese_walc_gradavg['gradeaverage']\n",
    "\n",
    "plt.bar(x-0.2, ym, 0.4, color='blue', label='Math grade average')\n",
    "plt.bar(x+0.2, yp, 0.4, color='red', label='Portuguese grade average')\n",
    "plt.title('Grade Average versus Weekly alcohol ingestion', fontsize=18)\n",
    "plt.xlabel('Weekly alcohol ingestion level',fontsize=14)\n",
    "plt.ylabel('Grade average',fontsize=14)\n",
    "plt.legend(loc='lower center')"
   ]
  },
  {
   "cell_type": "markdown",
   "id": "b0de1053",
   "metadata": {},
   "source": [
    "R: What can be confirmed is: mainly in Math's course, the group with high alcohol consumption trend to present lower averages analysing all the group. "
   ]
  },
  {
   "cell_type": "markdown",
   "id": "9566e657",
   "metadata": {},
   "source": [
    "#### 3. Does studying more hours impact on the grades?"
   ]
  },
  {
   "cell_type": "code",
   "execution_count": 13,
   "id": "07fe66d7",
   "metadata": {},
   "outputs": [],
   "source": [
    "m_study_hours = MathDS['studytime'].sort_values().unique()\n",
    "p_study_hours = PortugueseDS['studytime'].sort_values().unique()"
   ]
  },
  {
   "cell_type": "code",
   "execution_count": 14,
   "id": "7dcc179a",
   "metadata": {},
   "outputs": [],
   "source": [
    "math_studytime_gradavg = []\n",
    "for i in m_study_hours:\n",
    "    avg = round(MathDS[MathDS.studytime == i]['GradeAverage'].mean())\n",
    "    studytime_avg = [i, avg]\n",
    "    math_studytime_gradavg.append(studytime_avg)\n",
    "\n",
    "math_studytime_gradavg = pd.DataFrame(math_studytime_gradavg, columns=['studytime', 'gradeaverage'])\n",
    "\n",
    "portuguese_studytime_gradavg = []\n",
    "for i in p_study_hours:\n",
    "    avg = round(PortugueseDS[PortugueseDS.studytime == i]['GradeAverage'].mean())\n",
    "    studytime_avg = [i, avg]\n",
    "    portuguese_studytime_gradavg.append(studytime_avg)\n",
    "    \n",
    "portuguese_studytime_gradavg = pd.DataFrame(portuguese_studytime_gradavg, columns=['studytime', 'gradeaverage'])"
   ]
  },
  {
   "cell_type": "code",
   "execution_count": 15,
   "id": "aac2a618",
   "metadata": {},
   "outputs": [
    {
     "data": {
      "image/png": "[encoded data removed]",
      "text/plain": [
       "<Figure size 432x288 with 1 Axes>"
      ]
     },
     "metadata": {
      "needs_background": "light"
     },
     "output_type": "display_data"
    }
   ],
   "source": [
    "x = math_studytime_gradavg['studytime']\n",
    "ym = math_studytime_gradavg['gradeaverage']\n",
    "yp = portuguese_studytime_gradavg['gradeaverage']\n",
    "\n",
    "plt.bar(x-0.2, ym, 0.4, color='blue', label='Math grade average')\n",
    "plt.bar(x+0.2, yp, 0.4, color='red', label='Portuguese grade average')\n",
    "plt.title('Grade Average versus Study time', fontsize=18)\n",
    "plt.xlabel('Study time level',fontsize=14)\n",
    "plt.ylabel('Grade average',fontsize=14)\n",
    "plt.legend(loc='lower center')\n",
    "plt.show()"
   ]
  },
  {
   "cell_type": "markdown",
   "id": "d00509e0",
   "metadata": {},
   "source": [
    "R: According to what is showm, the average of those who study more hours trend to be higher than the others."
   ]
  },
  {
   "cell_type": "markdown",
   "id": "a5feee76",
   "metadata": {},
   "source": [
    "#### 4. There is any correlation between the Failures and the alcohol consumpion?"
   ]
  },
  {
   "cell_type": "code",
   "execution_count": 16,
   "id": "c69d4335",
   "metadata": {},
   "outputs": [],
   "source": [
    "m_failures = MathDS['failures'].sort_values().unique()\n",
    "p_failures = PortugueseDS['failures'].sort_values().unique()\n",
    "m_week_alc = MathDS['Walc'].sort_values().unique()\n",
    "p_week_alc = PortugueseDS['Walc'].sort_values().unique()"
   ]
  },
  {
   "cell_type": "code",
   "execution_count": 17,
   "id": "aea221e1",
   "metadata": {},
   "outputs": [],
   "source": [
    "math_failures_gradavg = []\n",
    "portuguese_failures_gradavg = []\n",
    "for i in m_failures:\n",
    "    math_ftemp= []\n",
    "    portuguese_ftemp = []\n",
    "    for j in m_week_alc:\n",
    "        lm_temp = len(MathDS[(MathDS.failures == i)&(MathDS.Walc == j)])\n",
    "        lp_temp = len(PortugueseDS[(PortugueseDS.failures == i)&(PortugueseDS.Walc == j)])\n",
    "        if np.isnan(lm_temp):\n",
    "            lm_temp = 0 \n",
    "        if np.isnan(lp_temp):\n",
    "            lp_temp = 0\n",
    "        math_ftemp.append(lm_temp)\n",
    "        portuguese_ftemp.append(lp_temp)\n",
    "    math_failures_gradavg.append(math_ftemp)\n",
    "    portuguese_failures_gradavg.append(portuguese_ftemp)\n",
    "    \n",
    "math_failures_gradavg = np.array(math_failures_gradavg).T\n",
    "portuguese_failures_gradavg = np.array(portuguese_failures_gradavg).T\n",
    "\n",
    "math_failures_gradavg = np.array_split(math_failures_gradavg, 5)\n",
    "portuguese_failures_gradavg = np.array_split(portuguese_failures_gradavg, 5)\n",
    "\n",
    "for i, v in enumerate(portuguese_failures_gradavg):\n",
    "    portuguese_failures_gradavg[i] = portuguese_failures_gradavg[i][0]\n",
    "    math_failures_gradavg[i] = math_failures_gradavg[i][0]"
   ]
  },
  {
   "cell_type": "code",
   "execution_count": 18,
   "id": "7432f8cc",
   "metadata": {},
   "outputs": [],
   "source": [
    "labels = ['0 Failures', '1 Failures', '2 Failures', '3 Failures']"
   ]
  },
  {
   "cell_type": "code",
   "execution_count": 19,
   "id": "a7d44196",
   "metadata": {},
   "outputs": [],
   "source": [
    "def gen_graph(values, groups, name):\n",
    "    n = len(values)                # Number of bars to plot\n",
    "    w = .15                        # With of each column\n",
    "    x = np.arange(0, len(groups))   # Center position of group on x axis\n",
    "\n",
    "    for i, value in enumerate(values):\n",
    "        position = x + (w*(1-n)/2) + i*w\n",
    "        plt.bar(position, value, width=w, label=f'Level {i+1}')\n",
    "\n",
    "    plt.xticks(x, groups);\n",
    "    plt.title(f'Number of students versus {name}', fontsize=18)\n",
    "    plt.ylabel('Students')\n",
    "    plt.xlabel(f'{name} grouped by alcohol consumption')\n",
    "\n",
    "    plt.legend()\n",
    "    plt.show()"
   ]
  },
  {
   "cell_type": "code",
   "execution_count": 21,
   "id": "96d1a851",
   "metadata": {},
   "outputs": [
    {
     "data": {
      "text/plain": [
       "[array([127,  15,   4,   5]),\n",
       " array([67, 12,  4,  2]),\n",
       " array([63, 10,  4,  3]),\n",
       " array([37,  9,  4,  1]),\n",
       " array([18,  4,  1,  5])]"
      ]
     },
     "execution_count": 21,
     "metadata": {},
     "output_type": "execute_result"
    }
   ],
   "source": [
    "math_failures_gradavg"
   ]
  },
  {
   "cell_type": "code",
   "execution_count": 20,
   "id": "fd5a4ae6",
   "metadata": {
    "scrolled": false
   },
   "outputs": [
    {
     "data": {
      "image/png": "[encoded data removed]",
      "text/plain": [
       "<Figure size 432x288 with 1 Axes>"
      ]
     },
     "metadata": {
      "needs_background": "light"
     },
     "output_type": "display_data"
    }
   ],
   "source": [
    "gen_graph(values=math_failures_gradavg, groups=labels, name='Failure')"
   ]
  },
  {
   "cell_type": "code",
   "execution_count": 21,
   "id": "53cd7177",
   "metadata": {},
   "outputs": [
    {
     "data": {
      "image/png": "[encoded data removed]",
      "text/plain": [
       "<Figure size 432x288 with 1 Axes>"
      ]
     },
     "metadata": {
      "needs_background": "light"
     },
     "output_type": "display_data"
    }
   ],
   "source": [
    "gen_graph(values=portuguese_failures_gradavg, groups=labels, name='Failure')"
   ]
  },
  {
   "cell_type": "markdown",
   "id": "f303df4f",
   "metadata": {},
   "source": [
    "R: Looking to the results, it seems to present no correlation in alcohol consumption and failures, once there is a diversity in the group with 0 failures. "
   ]
  },
  {
   "cell_type": "markdown",
   "id": "d45a6f09",
   "metadata": {},
   "source": [
    "#### 5. The alcohol consumption is higher in people with relationship ?"
   ]
  },
  {
   "cell_type": "code",
   "execution_count": 22,
   "id": "7f6fb51f",
   "metadata": {},
   "outputs": [],
   "source": [
    "m_romantic = MathDS['romantic'].sort_values().unique()\n",
    "p_romantic = PortugueseDS['romantic'].sort_values().unique()\n",
    "m_week_alc = MathDS['Walc'].sort_values().unique()\n",
    "p_week_alc = PortugueseDS['Walc'].sort_values().unique()"
   ]
  },
  {
   "cell_type": "code",
   "execution_count": 23,
   "id": "9a43ee1c",
   "metadata": {},
   "outputs": [],
   "source": [
    "math_romantic_gradavg = []\n",
    "portuguese_romantic_gradavg = []\n",
    "for i in m_romantic:\n",
    "    math_ftemp= []\n",
    "    portuguese_ftemp = []\n",
    "    for j in m_week_alc:\n",
    "        lm_temp = len(MathDS[(MathDS.romantic == i)&(MathDS.Walc == j)])\n",
    "        lp_temp = len(PortugueseDS[(PortugueseDS.romantic == i)&(PortugueseDS.Walc == j)])\n",
    "        if np.isnan(lm_temp):\n",
    "            lm_temp = 0 \n",
    "        if np.isnan(lp_temp):\n",
    "            lp_temp = 0\n",
    "        math_ftemp.append(lm_temp)\n",
    "        portuguese_ftemp.append(lp_temp)\n",
    "    math_romantic_gradavg.append(math_ftemp)\n",
    "    portuguese_romantic_gradavg.append(portuguese_ftemp)\n",
    "\n",
    "math_romantic_gradavg = np.array(math_romantic_gradavg).T\n",
    "portuguese_romantic_gradavg = np.array(portuguese_romantic_gradavg).T\n",
    "\n",
    "math_romantic_gradavg = np.array_split(math_romantic_gradavg, 5)\n",
    "portuguese_romantic_gradavg = np.array_split(portuguese_romantic_gradavg, 5)\n",
    "\n",
    "for i, v in enumerate(math_romantic_gradavg):\n",
    "    portuguese_romantic_gradavg[i] = portuguese_romantic_gradavg[i][0]\n",
    "    math_romantic_gradavg[i] = math_romantic_gradavg[i][0]"
   ]
  },
  {
   "cell_type": "code",
   "execution_count": 24,
   "id": "ba8d8add",
   "metadata": {},
   "outputs": [],
   "source": [
    "labels1 = ['no', 'yes']"
   ]
  },
  {
   "cell_type": "code",
   "execution_count": 25,
   "id": "bc0bd139",
   "metadata": {
    "scrolled": true
   },
   "outputs": [
    {
     "data": {
      "image/png": "[encoded data removed]",
      "text/plain": [
       "<Figure size 432x288 with 1 Axes>"
      ]
     },
     "metadata": {
      "needs_background": "light"
     },
     "output_type": "display_data"
    }
   ],
   "source": [
    "gen_graph(values=portuguese_romantic_gradavg, groups=labels1, name='Romantic')"
   ]
  },
  {
   "cell_type": "code",
   "execution_count": 26,
   "id": "4f92bebd",
   "metadata": {},
   "outputs": [
    {
     "data": {
      "image/png": "[encoded data removed]",
      "text/plain": [
       "<Figure size 432x288 with 1 Axes>"
      ]
     },
     "metadata": {
      "needs_background": "light"
     },
     "output_type": "display_data"
    }
   ],
   "source": [
    "gen_graph(values=math_romantic_gradavg, groups=labels1, name='Romantic')"
   ]
  },
  {
   "cell_type": "markdown",
   "id": "2159d600",
   "metadata": {},
   "source": [
    "R: It is observed that people's alcohol consumption in a relationship is lower than those who are single."
   ]
  },
  {
   "cell_type": "markdown",
   "id": "65ccd16e",
   "metadata": {},
   "source": [
    "#### 6. Does the family relation affects the alcohol ingestion?"
   ]
  },
  {
   "cell_type": "code",
   "execution_count": 27,
   "id": "99c18c55",
   "metadata": {},
   "outputs": [],
   "source": [
    "m_famsup = MathDS['famsup'].sort_values().unique()\n",
    "p_famsup = PortugueseDS['famsup'].sort_values().unique()\n",
    "m_week_alc = MathDS['Walc'].sort_values().unique()\n",
    "p_week_alc = PortugueseDS['Walc'].sort_values().unique()"
   ]
  },
  {
   "cell_type": "code",
   "execution_count": 28,
   "id": "08dfbff0",
   "metadata": {},
   "outputs": [],
   "source": [
    "math_famsup_gradavg = []\n",
    "portuguese_famsup_gradavg = []\n",
    "for i in m_famsup:\n",
    "    math_ftemp= []\n",
    "    portuguese_ftemp = []\n",
    "    for j in m_week_alc:\n",
    "        lm_temp = len(MathDS[(MathDS.famsup == i)&(MathDS.Walc == j)])\n",
    "        lp_temp = len(PortugueseDS[(PortugueseDS.famsup == i)&(PortugueseDS.Walc == j)])\n",
    "        if np.isnan(lm_temp):\n",
    "            lm_temp = 0 \n",
    "        if np.isnan(lp_temp):\n",
    "            lp_temp = 0\n",
    "            \n",
    "        math_ftemp.append(lm_temp)\n",
    "        portuguese_ftemp.append(lp_temp)\n",
    "    math_famsup_gradavg.append(math_ftemp)\n",
    "    portuguese_famsup_gradavg.append(portuguese_ftemp)\n",
    "\n",
    "math_famsup_gradavg = np.array(math_famsup_gradavg).T\n",
    "portuguese_famsup_gradavg = np.array(portuguese_famsup_gradavg).T\n",
    "\n",
    "math_famsup_gradavg = np.array_split(math_famsup_gradavg, 5)\n",
    "portuguese_famsup_gradavg = np.array_split(portuguese_famsup_gradavg, 5)\n",
    "\n",
    "for i, v in enumerate(math_famsup_gradavg):\n",
    "    math_famsup_gradavg[i] = math_famsup_gradavg[i][0]\n",
    "    portuguese_famsup_gradavg[i] = portuguese_famsup_gradavg[i][0]"
   ]
  },
  {
   "cell_type": "code",
   "execution_count": 29,
   "id": "2e55d44e",
   "metadata": {},
   "outputs": [],
   "source": [
    "labels2 = ['no', 'yes']"
   ]
  },
  {
   "cell_type": "code",
   "execution_count": 30,
   "id": "8084f0a5",
   "metadata": {},
   "outputs": [
    {
     "data": {
      "image/png": "[encoded data removed]",
      "text/plain": [
       "<Figure size 432x288 with 1 Axes>"
      ]
     },
     "metadata": {
      "needs_background": "light"
     },
     "output_type": "display_data"
    }
   ],
   "source": [
    "gen_graph(values=portuguese_famsup_gradavg, groups=labels1, name='Family support')"
   ]
  },
  {
   "cell_type": "code",
   "execution_count": 31,
   "id": "74764a16",
   "metadata": {},
   "outputs": [
    {
     "data": {
      "image/png": "[encoded data removed]",
      "text/plain": [
       "<Figure size 432x288 with 1 Axes>"
      ]
     },
     "metadata": {
      "needs_background": "light"
     },
     "output_type": "display_data"
    }
   ],
   "source": [
    "gen_graph(values=math_famsup_gradavg, groups=labels1, name='Family support')"
   ]
  },
  {
   "cell_type": "markdown",
   "id": "43dcd463",
   "metadata": {},
   "source": [
    "R: People that has lower family suport presents lower alcohol consumption considenring the others. "
   ]
  },
  {
   "cell_type": "markdown",
   "id": "2b8f5bde",
   "metadata": {},
   "source": [
    "#### 7. Does the age influences on alcohol consumption?"
   ]
  },
  {
   "cell_type": "code",
   "execution_count": 32,
   "id": "d7445b7e",
   "metadata": {},
   "outputs": [],
   "source": [
    "m_age = MathDS['age'].sort_values().unique()\n",
    "p_age = PortugueseDS['age'].sort_values().unique()\n",
    "m_week_alc = MathDS['Walc'].sort_values().unique()\n",
    "p_week_alc = PortugueseDS['Walc'].sort_values().unique()"
   ]
  },
  {
   "cell_type": "code",
   "execution_count": 41,
   "id": "9282edb4",
   "metadata": {},
   "outputs": [],
   "source": [
    "math_age_gradavg = []\n",
    "portuguese_age_gradavg = []\n",
    "for i in m_age:\n",
    "    math_ftemp= []\n",
    "    portuguese_ftemp = []\n",
    "    for j in m_week_alc:\n",
    "        lm_temp = len(MathDS[(MathDS.age == i)&(MathDS.Walc == j)])\n",
    "        lp_temp = len(PortugueseDS[(PortugueseDS.age == i)&(PortugueseDS.Walc == j)])\n",
    "        if np.isnan(lm_temp):\n",
    "            lm_temp = 0 \n",
    "        if np.isnan(lp_temp):\n",
    "            lp_temp = 0\n",
    "            \n",
    "        math_ftemp.append(lm_temp)\n",
    "        portuguese_ftemp.append(lp_temp)\n",
    "    math_age_gradavg.append(math_ftemp)\n",
    "    portuguese_age_gradavg.append(portuguese_ftemp)\n",
    "\n",
    "math_age_gradavg = np.array(math_age_gradavg).T\n",
    "portuguese_age_gradavg = np.array(portuguese_age_gradavg).T\n",
    "\n",
    "math_age_gradavg = np.array_split(math_age_gradavg, 5)\n",
    "portuguese_age_gradavg = np.array_split(portuguese_age_gradavg, 5)\n",
    "\n",
    "for i, v in enumerate(math_age_gradavg):\n",
    "    math_age_gradavg[i] = math_age_gradavg[i][0]\n",
    "    portuguese_age_gradavg[i] = portuguese_age_gradavg[i][0]"
   ]
  },
  {
   "cell_type": "code",
   "execution_count": 42,
   "id": "7b4eaa1c",
   "metadata": {},
   "outputs": [],
   "source": [
    "labels3= ['15', '16', '17', '18', '19', '20', '21', '22']"
   ]
  },
  {
   "cell_type": "code",
   "execution_count": 43,
   "id": "d9c696cf",
   "metadata": {
    "scrolled": true
   },
   "outputs": [
    {
     "data": {
      "image/png": "[encoded data removed]",
      "text/plain": [
       "<Figure size 432x288 with 1 Axes>"
      ]
     },
     "metadata": {
      "needs_background": "light"
     },
     "output_type": "display_data"
    }
   ],
   "source": [
    "gen_graph(values=portuguese_age_gradavg, groups=labels3, name='Age')"
   ]
  },
  {
   "cell_type": "code",
   "execution_count": 44,
   "id": "5947909d",
   "metadata": {},
   "outputs": [
    {
     "data": {
      "image/png": "[encoded data removed]",
      "text/plain": [
       "<Figure size 432x288 with 1 Axes>"
      ]
     },
     "metadata": {
      "needs_background": "light"
     },
     "output_type": "display_data"
    }
   ],
   "source": [
    "gen_graph(values=math_age_gradavg, groups=labels3, name='Age')"
   ]
  },
  {
   "cell_type": "markdown",
   "id": "152e407e",
   "metadata": {},
   "source": [
    "R: Yes, as younger a student is as high is its alcohol consumtion. When become older, the alcohol consumption trend to decrease."
   ]
  },
  {
   "cell_type": "markdown",
   "id": "76361b56",
   "metadata": {},
   "source": [
    "#### 8. Does the gender influences in alcohol consumption?"
   ]
  },
  {
   "cell_type": "code",
   "execution_count": 45,
   "id": "f881226f",
   "metadata": {},
   "outputs": [],
   "source": [
    "m_sex = MathDS['sex'].sort_values().unique()\n",
    "p_sex = PortugueseDS['sex'].sort_values().unique()\n",
    "m_week_alc = MathDS['Walc'].sort_values().unique()\n",
    "p_week_alc = PortugueseDS['Walc'].sort_values().unique()"
   ]
  },
  {
   "cell_type": "code",
   "execution_count": 46,
   "id": "f60f5e26",
   "metadata": {},
   "outputs": [],
   "source": [
    "math_sex_gradavg = []\n",
    "portuguese_sex_gradavg = []\n",
    "for i in m_sex:\n",
    "    math_ftemp= []\n",
    "    portuguese_ftemp = []\n",
    "    for j in m_week_alc:\n",
    "        lm_temp = len(MathDS[(MathDS.sex == i)&(MathDS.Walc == j)])\n",
    "        lp_temp = len(PortugueseDS[(PortugueseDS.sex == i)&(PortugueseDS.Walc == j)])\n",
    "        if np.isnan(lm_temp):\n",
    "            lm_temp = 0 \n",
    "        if np.isnan(lp_temp):\n",
    "            lp_temp = 0\n",
    "            \n",
    "        math_ftemp.append(lm_temp)\n",
    "        portuguese_ftemp.append(lp_temp)\n",
    "    math_sex_gradavg.append(math_ftemp)\n",
    "    portuguese_sex_gradavg.append(portuguese_ftemp)\n",
    "\n",
    "math_sex_gradavg = np.array(math_sex_gradavg).T\n",
    "portuguese_sex_gradavg = np.array(portuguese_sex_gradavg).T\n",
    "\n",
    "math_sex_gradavg = np.array_split(math_sex_gradavg, 5)\n",
    "portuguese_sex_gradavg = np.array_split(portuguese_sex_gradavg, 5)\n",
    "\n",
    "for i, v in enumerate(portuguese_sex_gradavg):\n",
    "    math_sex_gradavg[i] = math_sex_gradavg[i][0]\n",
    "    portuguese_sex_gradavg[i] = portuguese_sex_gradavg[i][0]"
   ]
  },
  {
   "cell_type": "code",
   "execution_count": 47,
   "id": "989e4e1e",
   "metadata": {},
   "outputs": [],
   "source": [
    "labels4= ['F', 'M']"
   ]
  },
  {
   "cell_type": "code",
   "execution_count": 48,
   "id": "dd617e03",
   "metadata": {},
   "outputs": [
    {
     "data": {
      "image/png": "[encoded data removed]",
      "text/plain": [
       "<Figure size 432x288 with 1 Axes>"
      ]
     },
     "metadata": {
      "needs_background": "light"
     },
     "output_type": "display_data"
    }
   ],
   "source": [
    "gen_graph(values=portuguese_sex_gradavg, groups=labels4, name='Sex')"
   ]
  },
  {
   "cell_type": "code",
   "execution_count": 49,
   "id": "e5e5c2e8",
   "metadata": {},
   "outputs": [
    {
     "data": {
      "image/png": "[encoded data removed]",
      "text/plain": [
       "<Figure size 432x288 with 1 Axes>"
      ]
     },
     "metadata": {
      "needs_background": "light"
     },
     "output_type": "display_data"
    }
   ],
   "source": [
    "gen_graph(values=math_sex_gradavg, groups=labels4, name='Sex')"
   ]
  },
  {
   "cell_type": "markdown",
   "id": "9bd468b0",
   "metadata": {},
   "source": [
    "R: Male students trend to present a high and very high consumption of alcohol while female presents, very low or moderate consumption."
   ]
  },
  {
   "cell_type": "markdown",
   "id": "23f07d58",
   "metadata": {},
   "source": [
    "### Which information does the data bring? Is it possible to take decision on obtained information?"
   ]
  },
  {
   "cell_type": "markdown",
   "id": "11990212",
   "metadata": {},
   "source": [
    "&emsp;The data bring information about students in two courses, Portuguese and Math, \n",
    "as it is shown in the begining of this notebook. In this dataset, there is a lot \n",
    "of features about the students as: age, weekly alcohol consumption, grades in \n",
    "three semesters, and so on.<br>\n",
    " &emsp;To take decision based on the data, first it is necessary to know where and how \n",
    "does the data was taken, if present biases when collecting samples and how was the \n",
    "method performed to avoid those problems.<br>\n",
    "Once it is taken, the dataset is cleaned, formatted and then is ready to start \n",
    "receiving questions about the data. Using the correct statistic methods it is \n",
    "possible to get insights and improve some process or to pay attention at correlations,\n",
    "this can be use to save money and increase the performance of a system.</p>"
   ]
  }
 ],
 "metadata": {
  "kernelspec": {
   "display_name": "Python 3 (ipykernel)",
   "language": "python",
   "name": "python3"
  },
  "language_info": {
   "codemirror_mode": {
    "name": "ipython",
    "version": 3
   },
   "file_extension": ".py",
   "mimetype": "text/x-python",
   "name": "python",
   "nbconvert_exporter": "python",
   "pygments_lexer": "ipython3",
   "version": "3.10.2"
  }
 },
 "nbformat": 4,
 "nbformat_minor": 5
}
