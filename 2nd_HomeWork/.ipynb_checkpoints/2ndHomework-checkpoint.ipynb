{
 "cells": [
  {
   "cell_type": "markdown",
   "id": "f3564355",
   "metadata": {},
   "source": [
    "# Service Orders for Maintenance\n",
    "\n",
    "### Data extracted from a base of Service Orders for Maintenance of its own fleet, in maintenance management spreadsheets of a fictitious environmental services company Bonis Ambiental. The data can be found at : __[Kaggle Dataset](https://www.kaggle.com/datasets/bonisvc/ordem-de-servico-da-manutencao)__"
   ]
  },
  {
   "cell_type": "markdown",
   "id": "364f0c3c",
   "metadata": {},
   "source": [
    "## Importing Libraries"
   ]
  },
  {
   "cell_type": "code",
   "execution_count": 1,
   "id": "cfbea210",
   "metadata": {},
   "outputs": [],
   "source": [
    "import pandas as pd\n",
    "import numpy as np\n",
    "import matplotlib.pyplot as plt\n",
    "import re"
   ]
  },
  {
   "cell_type": "markdown",
   "id": "134052e8",
   "metadata": {},
   "source": [
    "## Loading the data"
   ]
  },
  {
   "cell_type": "code",
   "execution_count": 2,
   "id": "97bacf8f",
   "metadata": {},
   "outputs": [],
   "source": [
    "file_name = 'manutsv.csv'\n",
    "dataset = pd.read_csv(file_name, sep=';')"
   ]
  },
  {
   "cell_type": "markdown",
   "id": "d734e60f",
   "metadata": {},
   "source": [
    "### Basic information about the Dataset"
   ]
  },
  {
   "cell_type": "code",
   "execution_count": 3,
   "id": "a1f6152d",
   "metadata": {},
   "outputs": [
    {
     "data": {
      "text/html": [
       "<div>\n",
       "<style scoped>\n",
       "    .dataframe tbody tr th:only-of-type {\n",
       "        vertical-align: middle;\n",
       "    }\n",
       "\n",
       "    .dataframe tbody tr th {\n",
       "        vertical-align: top;\n",
       "    }\n",
       "\n",
       "    .dataframe thead th {\n",
       "        text-align: right;\n",
       "    }\n",
       "</style>\n",
       "<table border=\"1\" class=\"dataframe\">\n",
       "  <thead>\n",
       "    <tr style=\"text-align: right;\">\n",
       "      <th></th>\n",
       "      <th>ordem_de_servico</th>\n",
       "      <th>tag_equipamento</th>\n",
       "      <th>tipo_de_equipamento</th>\n",
       "      <th>tipo_de_evento</th>\n",
       "      <th>tipo_de_manutencao</th>\n",
       "      <th>km_atual</th>\n",
       "      <th>hr_atual</th>\n",
       "      <th>data_entrada</th>\n",
       "      <th>hora_entrada</th>\n",
       "      <th>data_saida</th>\n",
       "      <th>hora_saida</th>\n",
       "    </tr>\n",
       "  </thead>\n",
       "  <tbody>\n",
       "    <tr>\n",
       "      <th>0</th>\n",
       "      <td>1.0</td>\n",
       "      <td>CHV-13</td>\n",
       "      <td>CAMINHAO HIPERVACUO</td>\n",
       "      <td>Preventiva</td>\n",
       "      <td>PMP</td>\n",
       "      <td>101.234,90</td>\n",
       "      <td>17.022,60</td>\n",
       "      <td>01/09/2021</td>\n",
       "      <td>11:15:00</td>\n",
       "      <td>02/09/2021</td>\n",
       "      <td>09:00:00</td>\n",
       "    </tr>\n",
       "    <tr>\n",
       "      <th>1</th>\n",
       "      <td>2.0</td>\n",
       "      <td>CHH-94</td>\n",
       "      <td>CAMINHAO HIPERVACUO HIDROJATO</td>\n",
       "      <td>Corretiva</td>\n",
       "      <td>Hidráulico</td>\n",
       "      <td>9.911,60</td>\n",
       "      <td>431</td>\n",
       "      <td>01/09/2021</td>\n",
       "      <td>14:20:00</td>\n",
       "      <td>01/09/2021</td>\n",
       "      <td>14:35:00</td>\n",
       "    </tr>\n",
       "    <tr>\n",
       "      <th>2</th>\n",
       "      <td>3.0</td>\n",
       "      <td>RT-26</td>\n",
       "      <td>REBOQUE TANQUE</td>\n",
       "      <td>Corretiva</td>\n",
       "      <td>Diversos</td>\n",
       "      <td>0</td>\n",
       "      <td>0</td>\n",
       "      <td>01/09/2021</td>\n",
       "      <td>14:37:00</td>\n",
       "      <td>01/09/2021</td>\n",
       "      <td>15:00:00</td>\n",
       "    </tr>\n",
       "    <tr>\n",
       "      <th>3</th>\n",
       "      <td>4.0</td>\n",
       "      <td>CM-9</td>\n",
       "      <td>CAVALO MECANICO</td>\n",
       "      <td>Corretiva</td>\n",
       "      <td>Mecânico</td>\n",
       "      <td>425.163,50</td>\n",
       "      <td>10.712,00</td>\n",
       "      <td>01/09/2021</td>\n",
       "      <td>15:10:00</td>\n",
       "      <td>01/09/2021</td>\n",
       "      <td>15:25:00</td>\n",
       "    </tr>\n",
       "    <tr>\n",
       "      <th>4</th>\n",
       "      <td>5.0</td>\n",
       "      <td>CHH-11</td>\n",
       "      <td>CAMINHAO HIPERVACUO HIDROJATO</td>\n",
       "      <td>Corretiva</td>\n",
       "      <td>Mecânico</td>\n",
       "      <td>71.852,50</td>\n",
       "      <td>14.583,90</td>\n",
       "      <td>01/09/2021</td>\n",
       "      <td>15:55:00</td>\n",
       "      <td>01/09/2021</td>\n",
       "      <td>16:08:00</td>\n",
       "    </tr>\n",
       "  </tbody>\n",
       "</table>\n",
       "</div>"
      ],
      "text/plain": [
       "   ordem_de_servico tag_equipamento            tipo_de_equipamento  \\\n",
       "0               1.0          CHV-13            CAMINHAO HIPERVACUO   \n",
       "1               2.0          CHH-94  CAMINHAO HIPERVACUO HIDROJATO   \n",
       "2               3.0           RT-26                 REBOQUE TANQUE   \n",
       "3               4.0            CM-9                CAVALO MECANICO   \n",
       "4               5.0          CHH-11  CAMINHAO HIPERVACUO HIDROJATO   \n",
       "\n",
       "  tipo_de_evento tipo_de_manutencao    km_atual   hr_atual data_entrada  \\\n",
       "0     Preventiva                PMP  101.234,90  17.022,60   01/09/2021   \n",
       "1      Corretiva         Hidráulico    9.911,60        431   01/09/2021   \n",
       "2      Corretiva           Diversos           0          0   01/09/2021   \n",
       "3      Corretiva           Mecânico  425.163,50  10.712,00   01/09/2021   \n",
       "4      Corretiva           Mecânico   71.852,50  14.583,90   01/09/2021   \n",
       "\n",
       "  hora_entrada  data_saida hora_saida  \n",
       "0     11:15:00  02/09/2021   09:00:00  \n",
       "1     14:20:00  01/09/2021   14:35:00  \n",
       "2     14:37:00  01/09/2021   15:00:00  \n",
       "3     15:10:00  01/09/2021   15:25:00  \n",
       "4     15:55:00  01/09/2021   16:08:00  "
      ]
     },
     "execution_count": 3,
     "metadata": {},
     "output_type": "execute_result"
    }
   ],
   "source": [
    "dataset.head()"
   ]
  },
  {
   "cell_type": "code",
   "execution_count": 4,
   "id": "747143b1",
   "metadata": {},
   "outputs": [
    {
     "data": {
      "text/html": [
       "<div>\n",
       "<style scoped>\n",
       "    .dataframe tbody tr th:only-of-type {\n",
       "        vertical-align: middle;\n",
       "    }\n",
       "\n",
       "    .dataframe tbody tr th {\n",
       "        vertical-align: top;\n",
       "    }\n",
       "\n",
       "    .dataframe thead th {\n",
       "        text-align: right;\n",
       "    }\n",
       "</style>\n",
       "<table border=\"1\" class=\"dataframe\">\n",
       "  <thead>\n",
       "    <tr style=\"text-align: right;\">\n",
       "      <th></th>\n",
       "      <th>ordem_de_servico</th>\n",
       "    </tr>\n",
       "  </thead>\n",
       "  <tbody>\n",
       "    <tr>\n",
       "      <th>count</th>\n",
       "      <td>1023.000000</td>\n",
       "    </tr>\n",
       "    <tr>\n",
       "      <th>mean</th>\n",
       "      <td>510.750733</td>\n",
       "    </tr>\n",
       "    <tr>\n",
       "      <th>std</th>\n",
       "      <td>294.261628</td>\n",
       "    </tr>\n",
       "    <tr>\n",
       "      <th>min</th>\n",
       "      <td>1.000000</td>\n",
       "    </tr>\n",
       "    <tr>\n",
       "      <th>25%</th>\n",
       "      <td>256.500000</td>\n",
       "    </tr>\n",
       "    <tr>\n",
       "      <th>50%</th>\n",
       "      <td>511.000000</td>\n",
       "    </tr>\n",
       "    <tr>\n",
       "      <th>75%</th>\n",
       "      <td>764.500000</td>\n",
       "    </tr>\n",
       "    <tr>\n",
       "      <th>max</th>\n",
       "      <td>1020.000000</td>\n",
       "    </tr>\n",
       "  </tbody>\n",
       "</table>\n",
       "</div>"
      ],
      "text/plain": [
       "       ordem_de_servico\n",
       "count       1023.000000\n",
       "mean         510.750733\n",
       "std          294.261628\n",
       "min            1.000000\n",
       "25%          256.500000\n",
       "50%          511.000000\n",
       "75%          764.500000\n",
       "max         1020.000000"
      ]
     },
     "execution_count": 4,
     "metadata": {},
     "output_type": "execute_result"
    }
   ],
   "source": [
    "dataset.describe()"
   ]
  },
  {
   "cell_type": "code",
   "execution_count": 5,
   "id": "f303ccc9",
   "metadata": {},
   "outputs": [
    {
     "data": {
      "text/plain": [
       "Index(['ordem_de_servico', 'tag_equipamento', 'tipo_de_equipamento',\n",
       "       'tipo_de_evento', 'tipo_de_manutencao', 'km_atual', 'hr_atual',\n",
       "       'data_entrada', 'hora_entrada', 'data_saida', 'hora_saida'],\n",
       "      dtype='object')"
      ]
     },
     "execution_count": 5,
     "metadata": {},
     "output_type": "execute_result"
    }
   ],
   "source": [
    "dataset.columns"
   ]
  },
  {
   "cell_type": "markdown",
   "id": "a1055ef0",
   "metadata": {},
   "source": [
    "### Variable and they types\n",
    "\n",
    "|Variável            | Tipo         |\n",
    "|:------------------:|:------------:|\n",
    "|ordem_de_servico    | Quantitativo |\n",
    "|tag_equipamento     | Qualitativo  |\n",
    "|tipo_de_equipamento | Qualitativo  |\n",
    "|tipo_de_evento      | Qualitativo  |\n",
    "|tipo_de_manutencao  | Qualitativo  |\n",
    "|km_atual            | Quantitativo |\n",
    "|hr_atual            | Quantitativo |\n",
    "|data_entrada        | Quantitativo |\n",
    "|hora_entrada        | Quantitativo |\n",
    "|data_saida          | Quantitativo |\n",
    "|hora_saida          | Quantitativo |"
   ]
  },
  {
   "cell_type": "code",
   "execution_count": 6,
   "id": "8aae0c55",
   "metadata": {},
   "outputs": [
    {
     "data": {
      "text/plain": [
       "ordem_de_servico       float64\n",
       "tag_equipamento         object\n",
       "tipo_de_equipamento     object\n",
       "tipo_de_evento          object\n",
       "tipo_de_manutencao      object\n",
       "km_atual                object\n",
       "hr_atual                object\n",
       "data_entrada            object\n",
       "hora_entrada            object\n",
       "data_saida              object\n",
       "hora_saida              object\n",
       "dtype: object"
      ]
     },
     "execution_count": 6,
     "metadata": {},
     "output_type": "execute_result"
    }
   ],
   "source": [
    "dataset.dtypes"
   ]
  },
  {
   "cell_type": "code",
   "execution_count": 7,
   "id": "491d5923",
   "metadata": {},
   "outputs": [
    {
     "name": "stdout",
     "output_type": "stream",
     "text": [
      "ordem_de_servico - 870\n",
      "tag_equipamento - 870\n",
      "tipo_de_equipamento - 870\n",
      "tipo_de_evento - 870\n",
      "tipo_de_manutencao - 870\n",
      "km_atual - 1033\n",
      "hr_atual - 1042\n",
      "data_entrada - 871\n",
      "hora_entrada - 913\n",
      "data_saida - 878\n",
      "hora_saida - 920\n"
     ]
    }
   ],
   "source": [
    "for i in dataset.columns.tolist():\n",
    "    print(f'{i} - {len(dataset[dataset[i].isnull()])}')"
   ]
  },
  {
   "cell_type": "markdown",
   "id": "66bbf482",
   "metadata": {},
   "source": [
    "## Trating available data"
   ]
  },
  {
   "cell_type": "code",
   "execution_count": 8,
   "id": "02553cbc",
   "metadata": {},
   "outputs": [],
   "source": [
    "datasetTrat = dataset.dropna()"
   ]
  },
  {
   "cell_type": "code",
   "execution_count": 9,
   "id": "7ebff82b",
   "metadata": {},
   "outputs": [
    {
     "name": "stderr",
     "output_type": "stream",
     "text": [
      "C:\\Users\\pedro\\AppData\\Local\\Temp\\ipykernel_12272\\680057411.py:1: SettingWithCopyWarning: \n",
      "A value is trying to be set on a copy of a slice from a DataFrame\n",
      "\n",
      "See the caveats in the documentation: https://pandas.pydata.org/pandas-docs/stable/user_guide/indexing.html#returning-a-view-versus-a-copy\n",
      "  datasetTrat['km_atual'].replace(r'[.]', '', regex=True, inplace=True)\n",
      "C:\\Users\\pedro\\AppData\\Local\\Temp\\ipykernel_12272\\680057411.py:2: SettingWithCopyWarning: \n",
      "A value is trying to be set on a copy of a slice from a DataFrame\n",
      "\n",
      "See the caveats in the documentation: https://pandas.pydata.org/pandas-docs/stable/user_guide/indexing.html#returning-a-view-versus-a-copy\n",
      "  datasetTrat['km_atual'].replace(r'[,]', '.', regex=True, inplace=True)\n",
      "C:\\Users\\pedro\\AppData\\Local\\Temp\\ipykernel_12272\\680057411.py:3: SettingWithCopyWarning: \n",
      "A value is trying to be set on a copy of a slice from a DataFrame\n",
      "\n",
      "See the caveats in the documentation: https://pandas.pydata.org/pandas-docs/stable/user_guide/indexing.html#returning-a-view-versus-a-copy\n",
      "  datasetTrat['km_atual'].replace(' ', '0', inplace=True)\n",
      "C:\\Users\\pedro\\AppData\\Local\\Temp\\ipykernel_12272\\680057411.py:4: SettingWithCopyWarning: \n",
      "A value is trying to be set on a copy of a slice from a DataFrame.\n",
      "Try using .loc[row_indexer,col_indexer] = value instead\n",
      "\n",
      "See the caveats in the documentation: https://pandas.pydata.org/pandas-docs/stable/user_guide/indexing.html#returning-a-view-versus-a-copy\n",
      "  datasetTrat['km_atual'] = datasetTrat['km_atual'].astype(float)\n"
     ]
    }
   ],
   "source": [
    "datasetTrat['km_atual'].replace(r'[.]', '', regex=True, inplace=True)\n",
    "datasetTrat['km_atual'].replace(r'[,]', '.', regex=True, inplace=True)\n",
    "datasetTrat['km_atual'].replace(' ', '0', inplace=True)\n",
    "datasetTrat['km_atual'] = datasetTrat['km_atual'].astype(float)"
   ]
  },
  {
   "cell_type": "code",
   "execution_count": 10,
   "id": "6b8628a4",
   "metadata": {},
   "outputs": [
    {
     "name": "stderr",
     "output_type": "stream",
     "text": [
      "C:\\Users\\pedro\\AppData\\Local\\Temp\\ipykernel_12272\\1824900478.py:1: SettingWithCopyWarning: \n",
      "A value is trying to be set on a copy of a slice from a DataFrame\n",
      "\n",
      "See the caveats in the documentation: https://pandas.pydata.org/pandas-docs/stable/user_guide/indexing.html#returning-a-view-versus-a-copy\n",
      "  datasetTrat['hr_atual'].replace(r'[.]', '', regex=True, inplace=True)\n",
      "C:\\Users\\pedro\\AppData\\Local\\Temp\\ipykernel_12272\\1824900478.py:2: SettingWithCopyWarning: \n",
      "A value is trying to be set on a copy of a slice from a DataFrame\n",
      "\n",
      "See the caveats in the documentation: https://pandas.pydata.org/pandas-docs/stable/user_guide/indexing.html#returning-a-view-versus-a-copy\n",
      "  datasetTrat['hr_atual'].replace(r'[,]', '.', regex=True, inplace=True)\n",
      "C:\\Users\\pedro\\AppData\\Local\\Temp\\ipykernel_12272\\1824900478.py:3: SettingWithCopyWarning: \n",
      "A value is trying to be set on a copy of a slice from a DataFrame\n",
      "\n",
      "See the caveats in the documentation: https://pandas.pydata.org/pandas-docs/stable/user_guide/indexing.html#returning-a-view-versus-a-copy\n",
      "  datasetTrat['hr_atual'].replace(' ', '0', inplace=True)\n",
      "C:\\Users\\pedro\\AppData\\Local\\Temp\\ipykernel_12272\\1824900478.py:4: SettingWithCopyWarning: \n",
      "A value is trying to be set on a copy of a slice from a DataFrame.\n",
      "Try using .loc[row_indexer,col_indexer] = value instead\n",
      "\n",
      "See the caveats in the documentation: https://pandas.pydata.org/pandas-docs/stable/user_guide/indexing.html#returning-a-view-versus-a-copy\n",
      "  datasetTrat['hr_atual'] = datasetTrat['hr_atual'].astype(float)\n"
     ]
    }
   ],
   "source": [
    "datasetTrat['hr_atual'].replace(r'[.]', '', regex=True, inplace=True)\n",
    "datasetTrat['hr_atual'].replace(r'[,]', '.', regex=True, inplace=True)\n",
    "datasetTrat['hr_atual'].replace(' ', '0', inplace=True)\n",
    "datasetTrat['hr_atual'] = datasetTrat['hr_atual'].astype(float)"
   ]
  },
  {
   "cell_type": "code",
   "execution_count": 11,
   "id": "8793fea5",
   "metadata": {},
   "outputs": [
    {
     "name": "stderr",
     "output_type": "stream",
     "text": [
      "C:\\Users\\pedro\\AppData\\Local\\Temp\\ipykernel_12272\\1272275303.py:1: SettingWithCopyWarning: \n",
      "A value is trying to be set on a copy of a slice from a DataFrame\n",
      "\n",
      "See the caveats in the documentation: https://pandas.pydata.org/pandas-docs/stable/user_guide/indexing.html#returning-a-view-versus-a-copy\n",
      "  datasetTrat['data_entrada'].replace(r'[\\ ]','', regex=True, inplace=True)\n"
     ]
    }
   ],
   "source": [
    "datasetTrat['data_entrada'].replace(r'[\\ ]','', regex=True, inplace=True)"
   ]
  },
  {
   "cell_type": "code",
   "execution_count": 12,
   "id": "9094884f",
   "metadata": {},
   "outputs": [
    {
     "name": "stderr",
     "output_type": "stream",
     "text": [
      "C:\\Users\\pedro\\AppData\\Local\\Temp\\ipykernel_12272\\1291199516.py:1: SettingWithCopyWarning: \n",
      "A value is trying to be set on a copy of a slice from a DataFrame\n",
      "\n",
      "See the caveats in the documentation: https://pandas.pydata.org/pandas-docs/stable/user_guide/indexing.html#returning-a-view-versus-a-copy\n",
      "  datasetTrat['hora_entrada'].replace(r'[\\ ]','', regex=True, inplace=True)\n"
     ]
    }
   ],
   "source": [
    "datasetTrat['hora_entrada'].replace(r'[\\ ]','', regex=True, inplace=True)\n",
    "condition1 = datasetTrat['hora_entrada'].str.match(r'\\d{2}:\\d{2}:\\d{2}')==False\n",
    "if len(datasetTrat[condition1]):\n",
    "    datasetTrat.loc[condition1, 'hora_entrada'] += ':00'"
   ]
  },
  {
   "cell_type": "code",
   "execution_count": 13,
   "id": "eb68fdd0",
   "metadata": {},
   "outputs": [
    {
     "name": "stderr",
     "output_type": "stream",
     "text": [
      "C:\\Users\\pedro\\AppData\\Local\\Temp\\ipykernel_12272\\4223230683.py:1: SettingWithCopyWarning: \n",
      "A value is trying to be set on a copy of a slice from a DataFrame.\n",
      "Try using .loc[row_indexer,col_indexer] = value instead\n",
      "\n",
      "See the caveats in the documentation: https://pandas.pydata.org/pandas-docs/stable/user_guide/indexing.html#returning-a-view-versus-a-copy\n",
      "  datasetTrat['timestamp_entrada'] = datasetTrat['data_entrada']+ ' ' + datasetTrat['hora_entrada']\n",
      "C:\\Users\\pedro\\AppData\\Local\\Temp\\ipykernel_12272\\4223230683.py:2: SettingWithCopyWarning: \n",
      "A value is trying to be set on a copy of a slice from a DataFrame\n",
      "\n",
      "See the caveats in the documentation: https://pandas.pydata.org/pandas-docs/stable/user_guide/indexing.html#returning-a-view-versus-a-copy\n",
      "  datasetTrat['timestamp_entrada'].replace(r'[:/]', '', regex=True, inplace=True)\n",
      "C:\\Users\\pedro\\AppData\\Local\\Temp\\ipykernel_12272\\4223230683.py:3: SettingWithCopyWarning: \n",
      "A value is trying to be set on a copy of a slice from a DataFrame.\n",
      "Try using .loc[row_indexer,col_indexer] = value instead\n",
      "\n",
      "See the caveats in the documentation: https://pandas.pydata.org/pandas-docs/stable/user_guide/indexing.html#returning-a-view-versus-a-copy\n",
      "  datasetTrat['timestamp_entrada'] = pd.to_datetime(datasetTrat['timestamp_entrada'], format='%d%m%Y %H%M%S')\n"
     ]
    }
   ],
   "source": [
    "datasetTrat['timestamp_entrada'] = datasetTrat['data_entrada']+ ' ' + datasetTrat['hora_entrada']\n",
    "datasetTrat['timestamp_entrada'].replace(r'[:/]', '', regex=True, inplace=True)\n",
    "datasetTrat['timestamp_entrada'] = pd.to_datetime(datasetTrat['timestamp_entrada'], format='%d%m%Y %H%M%S')"
   ]
  },
  {
   "cell_type": "code",
   "execution_count": 14,
   "id": "4f5b4717",
   "metadata": {},
   "outputs": [
    {
     "name": "stderr",
     "output_type": "stream",
     "text": [
      "C:\\Users\\pedro\\AppData\\Local\\Temp\\ipykernel_12272\\3146418723.py:1: SettingWithCopyWarning: \n",
      "A value is trying to be set on a copy of a slice from a DataFrame\n",
      "\n",
      "See the caveats in the documentation: https://pandas.pydata.org/pandas-docs/stable/user_guide/indexing.html#returning-a-view-versus-a-copy\n",
      "  datasetTrat['data_saida'].replace(r'[\\ ]','', regex=True, inplace=True)\n"
     ]
    }
   ],
   "source": [
    "datasetTrat['data_saida'].replace(r'[\\ ]','', regex=True, inplace=True)\n",
    "condition2 = datasetTrat['data_saida'].str.match(r'\\d{2}/\\d{2}/\\d{4}')==False\n",
    "if len(datasetTrat[condition2]):\n",
    "    datasetTrat.loc[condition2, 'data_saida'] = datasetTrat[condition2].data_entrada.values[0]"
   ]
  },
  {
   "cell_type": "code",
   "execution_count": 15,
   "id": "ac312ba8",
   "metadata": {},
   "outputs": [
    {
     "name": "stderr",
     "output_type": "stream",
     "text": [
      "C:\\Users\\pedro\\AppData\\Local\\Temp\\ipykernel_12272\\112155113.py:1: SettingWithCopyWarning: \n",
      "A value is trying to be set on a copy of a slice from a DataFrame\n",
      "\n",
      "See the caveats in the documentation: https://pandas.pydata.org/pandas-docs/stable/user_guide/indexing.html#returning-a-view-versus-a-copy\n",
      "  datasetTrat['hora_saida'].replace(r'[\\ ]','', regex=True, inplace=True)\n"
     ]
    }
   ],
   "source": [
    "datasetTrat['hora_saida'].replace(r'[\\ ]','', regex=True, inplace=True)"
   ]
  },
  {
   "cell_type": "code",
   "execution_count": 16,
   "id": "df70815d",
   "metadata": {},
   "outputs": [
    {
     "name": "stderr",
     "output_type": "stream",
     "text": [
      "C:\\Users\\pedro\\AppData\\Local\\Temp\\ipykernel_12272\\1430987393.py:1: SettingWithCopyWarning: \n",
      "A value is trying to be set on a copy of a slice from a DataFrame.\n",
      "Try using .loc[row_indexer,col_indexer] = value instead\n",
      "\n",
      "See the caveats in the documentation: https://pandas.pydata.org/pandas-docs/stable/user_guide/indexing.html#returning-a-view-versus-a-copy\n",
      "  datasetTrat['timestamp_saida'] = datasetTrat['data_saida']+ ' ' + datasetTrat['hora_saida']\n",
      "C:\\Users\\pedro\\AppData\\Local\\Temp\\ipykernel_12272\\1430987393.py:2: SettingWithCopyWarning: \n",
      "A value is trying to be set on a copy of a slice from a DataFrame\n",
      "\n",
      "See the caveats in the documentation: https://pandas.pydata.org/pandas-docs/stable/user_guide/indexing.html#returning-a-view-versus-a-copy\n",
      "  datasetTrat['timestamp_saida'].replace(r'[:/]', '', regex=True, inplace=True)\n",
      "C:\\Users\\pedro\\AppData\\Local\\Temp\\ipykernel_12272\\1430987393.py:3: SettingWithCopyWarning: \n",
      "A value is trying to be set on a copy of a slice from a DataFrame.\n",
      "Try using .loc[row_indexer,col_indexer] = value instead\n",
      "\n",
      "See the caveats in the documentation: https://pandas.pydata.org/pandas-docs/stable/user_guide/indexing.html#returning-a-view-versus-a-copy\n",
      "  datasetTrat['timestamp_saida'] = pd.to_datetime(datasetTrat['timestamp_saida'], format='%d%m%Y %H%M%S')\n"
     ]
    }
   ],
   "source": [
    "datasetTrat['timestamp_saida'] = datasetTrat['data_saida']+ ' ' + datasetTrat['hora_saida']\n",
    "datasetTrat['timestamp_saida'].replace(r'[:/]', '', regex=True, inplace=True)\n",
    "datasetTrat['timestamp_saida'] = pd.to_datetime(datasetTrat['timestamp_saida'], format='%d%m%Y %H%M%S')"
   ]
  },
  {
   "cell_type": "code",
   "execution_count": 17,
   "id": "a9c8d186",
   "metadata": {},
   "outputs": [
    {
     "name": "stderr",
     "output_type": "stream",
     "text": [
      "C:\\Users\\pedro\\AppData\\Local\\Temp\\ipykernel_12272\\2072544873.py:1: SettingWithCopyWarning: \n",
      "A value is trying to be set on a copy of a slice from a DataFrame\n",
      "\n",
      "See the caveats in the documentation: https://pandas.pydata.org/pandas-docs/stable/user_guide/indexing.html#returning-a-view-versus-a-copy\n",
      "  datasetTrat.drop(columns=['data_entrada', 'hora_entrada', 'data_saida', 'hora_saida'], inplace=True)\n"
     ]
    }
   ],
   "source": [
    "datasetTrat.drop(columns=['data_entrada', 'hora_entrada', 'data_saida', 'hora_saida'], inplace=True)"
   ]
  },
  {
   "cell_type": "code",
   "execution_count": 18,
   "id": "8cd353b4",
   "metadata": {},
   "outputs": [
    {
     "name": "stderr",
     "output_type": "stream",
     "text": [
      "C:\\Users\\pedro\\AppData\\Local\\Temp\\ipykernel_12272\\2074545768.py:1: SettingWithCopyWarning: \n",
      "A value is trying to be set on a copy of a slice from a DataFrame.\n",
      "Try using .loc[row_indexer,col_indexer] = value instead\n",
      "\n",
      "See the caveats in the documentation: https://pandas.pydata.org/pandas-docs/stable/user_guide/indexing.html#returning-a-view-versus-a-copy\n",
      "  datasetTrat['service_time'] = datasetTrat['timestamp_saida'] - datasetTrat['timestamp_entrada']\n"
     ]
    }
   ],
   "source": [
    "datasetTrat['service_time'] = datasetTrat['timestamp_saida'] - datasetTrat['timestamp_entrada']"
   ]
  },
  {
   "cell_type": "code",
   "execution_count": 19,
   "id": "0ae0f72c",
   "metadata": {},
   "outputs": [
    {
     "data": {
      "text/html": [
       "<div>\n",
       "<style scoped>\n",
       "    .dataframe tbody tr th:only-of-type {\n",
       "        vertical-align: middle;\n",
       "    }\n",
       "\n",
       "    .dataframe tbody tr th {\n",
       "        vertical-align: top;\n",
       "    }\n",
       "\n",
       "    .dataframe thead th {\n",
       "        text-align: right;\n",
       "    }\n",
       "</style>\n",
       "<table border=\"1\" class=\"dataframe\">\n",
       "  <thead>\n",
       "    <tr style=\"text-align: right;\">\n",
       "      <th></th>\n",
       "      <th>ordem_de_servico</th>\n",
       "      <th>tag_equipamento</th>\n",
       "      <th>tipo_de_equipamento</th>\n",
       "      <th>tipo_de_evento</th>\n",
       "      <th>tipo_de_manutencao</th>\n",
       "      <th>km_atual</th>\n",
       "      <th>hr_atual</th>\n",
       "      <th>timestamp_entrada</th>\n",
       "      <th>timestamp_saida</th>\n",
       "      <th>service_time</th>\n",
       "    </tr>\n",
       "  </thead>\n",
       "  <tbody>\n",
       "    <tr>\n",
       "      <th>0</th>\n",
       "      <td>1.0</td>\n",
       "      <td>CHV-13</td>\n",
       "      <td>CAMINHAO HIPERVACUO</td>\n",
       "      <td>Preventiva</td>\n",
       "      <td>PMP</td>\n",
       "      <td>101234.9</td>\n",
       "      <td>17022.6</td>\n",
       "      <td>2021-09-01 11:15:00</td>\n",
       "      <td>2021-09-02 09:00:00</td>\n",
       "      <td>0 days 21:45:00</td>\n",
       "    </tr>\n",
       "    <tr>\n",
       "      <th>1</th>\n",
       "      <td>2.0</td>\n",
       "      <td>CHH-94</td>\n",
       "      <td>CAMINHAO HIPERVACUO HIDROJATO</td>\n",
       "      <td>Corretiva</td>\n",
       "      <td>Hidráulico</td>\n",
       "      <td>9911.6</td>\n",
       "      <td>431.0</td>\n",
       "      <td>2021-09-01 14:20:00</td>\n",
       "      <td>2021-09-01 14:35:00</td>\n",
       "      <td>0 days 00:15:00</td>\n",
       "    </tr>\n",
       "    <tr>\n",
       "      <th>2</th>\n",
       "      <td>3.0</td>\n",
       "      <td>RT-26</td>\n",
       "      <td>REBOQUE TANQUE</td>\n",
       "      <td>Corretiva</td>\n",
       "      <td>Diversos</td>\n",
       "      <td>0.0</td>\n",
       "      <td>0.0</td>\n",
       "      <td>2021-09-01 14:37:00</td>\n",
       "      <td>2021-09-01 15:00:00</td>\n",
       "      <td>0 days 00:23:00</td>\n",
       "    </tr>\n",
       "    <tr>\n",
       "      <th>3</th>\n",
       "      <td>4.0</td>\n",
       "      <td>CM-9</td>\n",
       "      <td>CAVALO MECANICO</td>\n",
       "      <td>Corretiva</td>\n",
       "      <td>Mecânico</td>\n",
       "      <td>425163.5</td>\n",
       "      <td>10712.0</td>\n",
       "      <td>2021-09-01 15:10:00</td>\n",
       "      <td>2021-09-01 15:25:00</td>\n",
       "      <td>0 days 00:15:00</td>\n",
       "    </tr>\n",
       "    <tr>\n",
       "      <th>4</th>\n",
       "      <td>5.0</td>\n",
       "      <td>CHH-11</td>\n",
       "      <td>CAMINHAO HIPERVACUO HIDROJATO</td>\n",
       "      <td>Corretiva</td>\n",
       "      <td>Mecânico</td>\n",
       "      <td>71852.5</td>\n",
       "      <td>14583.9</td>\n",
       "      <td>2021-09-01 15:55:00</td>\n",
       "      <td>2021-09-01 16:08:00</td>\n",
       "      <td>0 days 00:13:00</td>\n",
       "    </tr>\n",
       "    <tr>\n",
       "      <th>...</th>\n",
       "      <td>...</td>\n",
       "      <td>...</td>\n",
       "      <td>...</td>\n",
       "      <td>...</td>\n",
       "      <td>...</td>\n",
       "      <td>...</td>\n",
       "      <td>...</td>\n",
       "      <td>...</td>\n",
       "      <td>...</td>\n",
       "      <td>...</td>\n",
       "    </tr>\n",
       "    <tr>\n",
       "      <th>1011</th>\n",
       "      <td>1009.0</td>\n",
       "      <td>CPG-18</td>\n",
       "      <td>CAMINHAO POLIGUINDASTE</td>\n",
       "      <td>Corretiva</td>\n",
       "      <td>Elétrico</td>\n",
       "      <td>16825.4</td>\n",
       "      <td>1080.0</td>\n",
       "      <td>2022-03-30 16:10:00</td>\n",
       "      <td>2022-03-30 16:24:00</td>\n",
       "      <td>0 days 00:14:00</td>\n",
       "    </tr>\n",
       "    <tr>\n",
       "      <th>1014</th>\n",
       "      <td>1012.0</td>\n",
       "      <td>CHH-11</td>\n",
       "      <td>CAMINHAO HIPERVACUO HIDROJATO</td>\n",
       "      <td>Corretiva</td>\n",
       "      <td>Elétrico</td>\n",
       "      <td>88410.2</td>\n",
       "      <td>17320.8</td>\n",
       "      <td>2022-03-31 08:20:00</td>\n",
       "      <td>2022-03-31 09:15:00</td>\n",
       "      <td>0 days 00:55:00</td>\n",
       "    </tr>\n",
       "    <tr>\n",
       "      <th>1018</th>\n",
       "      <td>1016.0</td>\n",
       "      <td>CP-77</td>\n",
       "      <td>CAMINHAO PIPA</td>\n",
       "      <td>Preventiva</td>\n",
       "      <td>Diversos</td>\n",
       "      <td>41414.2</td>\n",
       "      <td>6038.0</td>\n",
       "      <td>2022-03-31 16:20:00</td>\n",
       "      <td>2022-03-31 18:20:00</td>\n",
       "      <td>0 days 02:00:00</td>\n",
       "    </tr>\n",
       "    <tr>\n",
       "      <th>1020</th>\n",
       "      <td>1018.0</td>\n",
       "      <td>CHH-94</td>\n",
       "      <td>CAMINHAO HIPERVACUO HIDROJATO</td>\n",
       "      <td>Corretiva</td>\n",
       "      <td>Elétrico</td>\n",
       "      <td>27285.3</td>\n",
       "      <td>1172.0</td>\n",
       "      <td>2022-04-01 08:00:00</td>\n",
       "      <td>2022-04-01 08:12:00</td>\n",
       "      <td>0 days 00:12:00</td>\n",
       "    </tr>\n",
       "    <tr>\n",
       "      <th>1021</th>\n",
       "      <td>1019.0</td>\n",
       "      <td>CM-9</td>\n",
       "      <td>CAVALO MECANICO</td>\n",
       "      <td>Corretiva</td>\n",
       "      <td>Mecânico</td>\n",
       "      <td>455227.1</td>\n",
       "      <td>11569.0</td>\n",
       "      <td>2022-04-01 09:00:00</td>\n",
       "      <td>2022-04-01 09:15:00</td>\n",
       "      <td>0 days 00:15:00</td>\n",
       "    </tr>\n",
       "  </tbody>\n",
       "</table>\n",
       "<p>800 rows × 10 columns</p>\n",
       "</div>"
      ],
      "text/plain": [
       "      ordem_de_servico tag_equipamento            tipo_de_equipamento  \\\n",
       "0                  1.0          CHV-13            CAMINHAO HIPERVACUO   \n",
       "1                  2.0          CHH-94  CAMINHAO HIPERVACUO HIDROJATO   \n",
       "2                  3.0           RT-26                 REBOQUE TANQUE   \n",
       "3                  4.0            CM-9                CAVALO MECANICO   \n",
       "4                  5.0          CHH-11  CAMINHAO HIPERVACUO HIDROJATO   \n",
       "...                ...             ...                            ...   \n",
       "1011            1009.0          CPG-18         CAMINHAO POLIGUINDASTE   \n",
       "1014            1012.0          CHH-11  CAMINHAO HIPERVACUO HIDROJATO   \n",
       "1018            1016.0           CP-77                  CAMINHAO PIPA   \n",
       "1020            1018.0          CHH-94  CAMINHAO HIPERVACUO HIDROJATO   \n",
       "1021            1019.0            CM-9                CAVALO MECANICO   \n",
       "\n",
       "     tipo_de_evento tipo_de_manutencao  km_atual  hr_atual  \\\n",
       "0        Preventiva                PMP  101234.9   17022.6   \n",
       "1         Corretiva         Hidráulico    9911.6     431.0   \n",
       "2         Corretiva           Diversos       0.0       0.0   \n",
       "3         Corretiva           Mecânico  425163.5   10712.0   \n",
       "4         Corretiva           Mecânico   71852.5   14583.9   \n",
       "...             ...                ...       ...       ...   \n",
       "1011      Corretiva           Elétrico   16825.4    1080.0   \n",
       "1014      Corretiva           Elétrico   88410.2   17320.8   \n",
       "1018     Preventiva           Diversos   41414.2    6038.0   \n",
       "1020      Corretiva           Elétrico   27285.3    1172.0   \n",
       "1021      Corretiva           Mecânico  455227.1   11569.0   \n",
       "\n",
       "       timestamp_entrada     timestamp_saida    service_time  \n",
       "0    2021-09-01 11:15:00 2021-09-02 09:00:00 0 days 21:45:00  \n",
       "1    2021-09-01 14:20:00 2021-09-01 14:35:00 0 days 00:15:00  \n",
       "2    2021-09-01 14:37:00 2021-09-01 15:00:00 0 days 00:23:00  \n",
       "3    2021-09-01 15:10:00 2021-09-01 15:25:00 0 days 00:15:00  \n",
       "4    2021-09-01 15:55:00 2021-09-01 16:08:00 0 days 00:13:00  \n",
       "...                  ...                 ...             ...  \n",
       "1011 2022-03-30 16:10:00 2022-03-30 16:24:00 0 days 00:14:00  \n",
       "1014 2022-03-31 08:20:00 2022-03-31 09:15:00 0 days 00:55:00  \n",
       "1018 2022-03-31 16:20:00 2022-03-31 18:20:00 0 days 02:00:00  \n",
       "1020 2022-04-01 08:00:00 2022-04-01 08:12:00 0 days 00:12:00  \n",
       "1021 2022-04-01 09:00:00 2022-04-01 09:15:00 0 days 00:15:00  \n",
       "\n",
       "[800 rows x 10 columns]"
      ]
     },
     "execution_count": 19,
     "metadata": {},
     "output_type": "execute_result"
    }
   ],
   "source": [
    "datasetTrat"
   ]
  },
  {
   "cell_type": "code",
   "execution_count": 20,
   "id": "5f8c188c",
   "metadata": {},
   "outputs": [
    {
     "data": {
      "text/plain": [
       "array(['Preventiva', 'Corretiva', 'Adequação', 'Lavagem', 'Lubrificação',\n",
       "       'Calibragem'], dtype=object)"
      ]
     },
     "execution_count": 20,
     "metadata": {},
     "output_type": "execute_result"
    }
   ],
   "source": [
    "datasetTrat['tipo_de_evento'].unique()"
   ]
  },
  {
   "cell_type": "markdown",
   "id": "1a199743",
   "metadata": {},
   "source": [
    "## Questions about the data"
   ]
  },
  {
   "cell_type": "markdown",
   "id": "7f4b2717",
   "metadata": {},
   "source": [
    "### 1. Which are the most incidences looking at variable \"tipo_de_evento\"?"
   ]
  },
  {
   "cell_type": "code",
   "execution_count": 21,
   "id": "c106481b",
   "metadata": {
    "scrolled": true
   },
   "outputs": [
    {
     "data": {
      "image/png": "[encoded data removed]",
      "text/plain": [
       "<Figure size 432x288 with 1 Axes>"
      ]
     },
     "metadata": {
      "needs_background": "light"
     },
     "output_type": "display_data"
    }
   ],
   "source": [
    "incidencia_event = []\n",
    "\n",
    "for event in datasetTrat['tipo_de_evento'].unique():\n",
    "    temp_size = len(datasetTrat[datasetTrat['tipo_de_evento'] == event])\n",
    "    temp_ds = [event, temp_size]\n",
    "    incidencia_event.append(temp_ds)\n",
    "\n",
    "incidencia_event = pd.DataFrame(incidencia_event, columns=['tipo_de_evento', 'incidencia']).sort_values(by=['incidencia'], ascending=False)\n",
    "\n",
    "fig, ax = plt.subplots()\n",
    "ax.bar(incidencia_event.tipo_de_evento, incidencia_event.incidencia)\n",
    "ax.set_title('Incidencia de carros por tipo de evento')\n",
    "ax.set_xlabel('Tipo de evento')\n",
    "ax.set_ylabel('Incidencia de carros')\n",
    "plt.setp(ax.get_xticklabels(), rotation=30, horizontalalignment='right')\n",
    "plt.show()"
   ]
  },
  {
   "cell_type": "markdown",
   "id": "e0ca048b",
   "metadata": {},
   "source": [
    "R: The most incidence in this repair shop."
   ]
  },
  {
   "cell_type": "markdown",
   "id": "5ca952db",
   "metadata": {},
   "source": [
    "### 2. What are the kilometer distributions for this kind of event?"
   ]
  },
  {
   "cell_type": "code",
   "execution_count": 22,
   "id": "0ca4963c",
   "metadata": {},
   "outputs": [
    {
     "name": "stderr",
     "output_type": "stream",
     "text": [
      "C:\\Users\\pedro\\AppData\\Local\\Temp\\ipykernel_12272\\2685896127.py:17: UserWarning: Matplotlib is currently using module://matplotlib_inline.backend_inline, which is a non-GUI backend, so cannot show the figure.\n",
      "  fig.show()\n"
     ]
    },
    {
     "data": {
      "image/png": "[encoded data removed]",
      "text/plain": [
       "<Figure size 432x288 with 1 Axes>"
      ]
     },
     "metadata": {
      "needs_background": "light"
     },
     "output_type": "display_data"
    }
   ],
   "source": [
    "kilometer_event = []\n",
    "\n",
    "for event in datasetTrat['tipo_de_evento'].unique():\n",
    "    temp_km = datasetTrat[datasetTrat.tipo_de_evento == event]['km_atual'].mean()\n",
    "    temp_ds = [event, temp_km]\n",
    "    kilometer_event.append(temp_ds)\n",
    "    \n",
    "kilometer_event = pd.DataFrame(kilometer_event, columns=['tipo_de_evento', 'quilometragem_media']).sort_values(by=['quilometragem_media'], ascending=False)\n",
    "kilometer_event\n",
    "\n",
    "fig, ax = plt.subplots()\n",
    "ax.bar(kilometer_event.tipo_de_evento, kilometer_event.quilometragem_media)\n",
    "ax.set_title('Quilometragem média dos carros por tipo de evento')\n",
    "ax.set_xlabel('Tipo de evento')\n",
    "ax.set_ylabel('Quilometragem (km)')\n",
    "plt.setp(ax.get_xticklabels(), rotation=30, horizontalalignment='right')\n",
    "fig.show()"
   ]
  },
  {
   "cell_type": "raw",
   "id": "74213437",
   "metadata": {},
   "source": [
    "R: Os carros com maiores quilometragens estão enquadrados no tipo de evento calibragem."
   ]
  },
  {
   "cell_type": "markdown",
   "id": "12e16ebb",
   "metadata": {},
   "source": [
    "### 3. What is the distribution of \"tipo_de_manutenção\" for this event type?"
   ]
  },
  {
   "cell_type": "code",
   "execution_count": 23,
   "id": "4b50cb68",
   "metadata": {},
   "outputs": [
    {
     "data": {
      "image/png": "[encoded data removed]",
      "text/plain": [
       "<Figure size 432x288 with 1 Axes>"
      ]
     },
     "metadata": {
      "needs_background": "light"
     },
     "output_type": "display_data"
    }
   ],
   "source": [
    "tipo_de_evento = datasetTrat['tipo_de_evento'].sort_values().unique()\n",
    "tipo_de_manutencao = datasetTrat['tipo_de_manutencao'].sort_values().unique()\n",
    "\n",
    "evento_manutencao = []\n",
    "for i in tipo_de_evento:\n",
    "    event_temp= []\n",
    "    for j in tipo_de_manutencao:\n",
    "        temp = len(datasetTrat[(datasetTrat.tipo_de_evento == i)&(datasetTrat.tipo_de_manutencao == j)])\n",
    "        if np.isnan(temp):\n",
    "            temp = 0 \n",
    "        event_temp.append(temp)\n",
    "        \n",
    "    evento_manutencao.append(event_temp)\n",
    "\n",
    "evento_manutencao = np.array(evento_manutencao).T\n",
    "\n",
    "evento_manutencao = np.array_split(evento_manutencao, len(tipo_de_manutencao))\n",
    "\n",
    "for i, v in enumerate(evento_manutencao):\n",
    "    evento_manutencao[i] = evento_manutencao[i][0]\n",
    "\n",
    "values=evento_manutencao\n",
    "groups=tipo_de_evento\n",
    "    \n",
    "n = len(values)                # Number of bars to plot\n",
    "w = .15                        # With of each column\n",
    "x = np.arange(0, len(groups))   # Center position of group on x axis\n",
    "fig, ax = plt.subplots()\n",
    "for i, value in enumerate(values):\n",
    "    position = x + (w*(1-n)/2) + i*w\n",
    "    ax.bar(position, value, width=w, label=f'{tipo_de_manutencao[i]}')\n",
    "\n",
    "plt.xticks(x, groups);\n",
    "ax.set_title(f'Distribuição do tipo de manutencao pelo tipo de evento', fontsize=18)\n",
    "ax.set_ylabel('Quantidade de carros')\n",
    "ax.set_xlabel(f'Tpo de manutenção agrupados pelo tipo de evento')\n",
    "\n",
    "plt.setp(ax.get_xticklabels(), rotation=30, horizontalalignment='right')\n",
    "\n",
    "plt.legend()\n",
    "plt.show()"
   ]
  },
  {
   "cell_type": "markdown",
   "id": "2f46ff06",
   "metadata": {},
   "source": [
    "R: The corrective event type, are those who present the most diversity related to maintenance. The first position is given to \"diversos\", the second to \"Elétrico\" and the third one to \"Mecânico\"."
   ]
  },
  {
   "cell_type": "markdown",
   "id": "fe3c6cb3",
   "metadata": {},
   "source": [
    "### 4. What event type, the hour meter is greater in average?"
   ]
  },
  {
   "cell_type": "code",
   "execution_count": 24,
   "id": "e3340623",
   "metadata": {},
   "outputs": [
    {
     "data": {
      "image/png": "[encoded data removed]",
      "text/plain": [
       "<Figure size 432x288 with 1 Axes>"
      ]
     },
     "metadata": {
      "needs_background": "light"
     },
     "output_type": "display_data"
    }
   ],
   "source": [
    "hr_event = []\n",
    "\n",
    "for event in datasetTrat['tipo_de_evento'].unique():\n",
    "    temp_hr = datasetTrat[datasetTrat.tipo_de_evento == event]['hr_atual'].mean()\n",
    "    temp_ds = [event, temp_hr]\n",
    "    hr_event.append(temp_ds)\n",
    "    \n",
    "hr_event = pd.DataFrame(hr_event, columns=['tipo_de_evento', 'hora_media']).sort_values(by=['hora_media'], ascending=False)\n",
    "\n",
    "fig, ax = plt.subplots()\n",
    "ax.bar(hr_event.tipo_de_evento, hr_event.hora_media)\n",
    "ax.set_title('Hora média nos horímetros por tipo de evento')\n",
    "ax.set_xlabel('Tipo de evento')\n",
    "ax.set_ylabel('Hora (h)')\n",
    "plt.setp(ax.get_xticklabels(), rotation=30, horizontalalignment='right')\n",
    "plt.show()"
   ]
  },
  {
   "cell_type": "markdown",
   "id": "872bf27b",
   "metadata": {},
   "source": [
    "R: The hour meter is greate in average in event types of \"Preventivos\", what does mean that the care of prevention is greather than correcting some problem what is counter intuitive once the corrective takes almost always more time."
   ]
  },
  {
   "cell_type": "markdown",
   "id": "81046777",
   "metadata": {},
   "source": [
    "### 5. What event type takes time longer?"
   ]
  },
  {
   "cell_type": "code",
   "execution_count": 25,
   "id": "2e396ab5",
   "metadata": {},
   "outputs": [
    {
     "name": "stderr",
     "output_type": "stream",
     "text": [
      "C:\\Users\\pedro\\AppData\\Local\\Temp\\ipykernel_12272\\3956954423.py:16: UserWarning: Matplotlib is currently using module://matplotlib_inline.backend_inline, which is a non-GUI backend, so cannot show the figure.\n",
      "  fig.show()\n"
     ]
    },
    {
     "data": {
      "image/png": "[encoded data removed]",
      "text/plain": [
       "<Figure size 432x288 with 1 Axes>"
      ]
     },
     "metadata": {
      "needs_background": "light"
     },
     "output_type": "display_data"
    }
   ],
   "source": [
    "svt_event = []\n",
    "\n",
    "for event in datasetTrat['tipo_de_evento'].unique():\n",
    "    temp_time = (datasetTrat[datasetTrat.tipo_de_evento == event]['service_time']/np.timedelta64(1, \"h\")).mean()\n",
    "    temp_ds = [event, temp_time]\n",
    "    svt_event.append(temp_ds)\n",
    "    \n",
    "svt_event = pd.DataFrame(svt_event, columns=['tipo_de_evento', 'tempo_de_sv']).sort_values(by=['tempo_de_sv'], ascending=False)\n",
    "\n",
    "fig, ax = plt.subplots()\n",
    "ax.bar(svt_event.tipo_de_evento, svt_event.tempo_de_sv)\n",
    "ax.set_title('Hora média de serviço por tipo de evento')\n",
    "ax.set_xlabel('Tipo de evento')\n",
    "ax.set_ylabel('Hora (h)')\n",
    "plt.setp(ax.get_xticklabels(), rotation=30, horizontalalignment='right')\n",
    "fig.show()"
   ]
  },
  {
   "cell_type": "markdown",
   "id": "db993c60",
   "metadata": {},
   "source": [
    "R: The event type that takes more time is the corrective one, with 10 hours in average by vehicle what is expected for this type of vehicle."
   ]
  },
  {
   "cell_type": "markdown",
   "id": "cc247924",
   "metadata": {},
   "source": [
    "### 6. There is a maintenance pattern throughout the year independent of event type?"
   ]
  },
  {
   "cell_type": "code",
   "execution_count": 26,
   "id": "7634345a",
   "metadata": {},
   "outputs": [],
   "source": [
    "mth = {1: 'Jan', \n",
    "       2: 'Fev', \n",
    "       3: 'Mar', \n",
    "       4: 'Abr', \n",
    "       5: 'Mai', \n",
    "       6: 'Jun', \n",
    "       7: 'Jul', \n",
    "       8: 'Ago', \n",
    "       9: 'Set', \n",
    "       10: 'Out', \n",
    "       11: 'Nov', \n",
    "       12: 'Dez'}\n",
    "\n",
    "years = {}\n",
    "for i in datasetTrat.timestamp_entrada.dt.year.unique():\n",
    "    temp_year = []\n",
    "    for j in range(1,13):\n",
    "        temp = len(datasetTrat[(datasetTrat.timestamp_entrada.dt.year == i) & (datasetTrat.timestamp_entrada.dt.month == j)])\n",
    "        temp_year.append([mth[j],temp])\n",
    "    temp_year = pd.DataFrame(temp_year, columns = ['meses', 'quantidade'])\n",
    "    years[i] = temp_year"
   ]
  },
  {
   "cell_type": "code",
   "execution_count": 27,
   "id": "9e54632e",
   "metadata": {},
   "outputs": [
    {
     "data": {
      "image/png": "[encoded data removed]",
      "text/plain": [
       "<Figure size 432x288 with 1 Axes>"
      ]
     },
     "metadata": {
      "needs_background": "light"
     },
     "output_type": "display_data"
    }
   ],
   "source": [
    "plt.plot(years[2021].meses, years[2021].quantidade, label='2021')\n",
    "plt.plot(years[2022].meses, years[2022].quantidade, label='2022')\n",
    "plt.title('Quantidade de veiculos por meses')\n",
    "plt.xlabel('Meses')\n",
    "plt.ylabel('Quantidade de carros')\n",
    "plt.legend()\n",
    "plt.show()"
   ]
  },
  {
   "cell_type": "markdown",
   "id": "c8b5534c",
   "metadata": {},
   "source": [
    "R: The only pattern dected was the steep drop of maintenance from april to august and an incresing after that. "
   ]
  },
  {
   "cell_type": "markdown",
   "id": "255f9458",
   "metadata": {},
   "source": [
    "All the data was used only for trained so it is not expected to make sense with reality. What could be execised, was the cleaning skill and to put in practice what was learned in class."
   ]
  },
  {
   "cell_type": "code",
   "execution_count": null,
   "id": "46b678ca",
   "metadata": {},
   "outputs": [],
   "source": []
  }
 ],
 "metadata": {
  "kernelspec": {
   "display_name": "Python 3 (ipykernel)",
   "language": "python",
   "name": "python3"
  },
  "language_info": {
   "codemirror_mode": {
    "name": "ipython",
    "version": 3
   },
   "file_extension": ".py",
   "mimetype": "text/x-python",
   "name": "python",
   "nbconvert_exporter": "python",
   "pygments_lexer": "ipython3",
   "version": "3.10.8"
  }
 },
 "nbformat": 4,
 "nbformat_minor": 5
}
